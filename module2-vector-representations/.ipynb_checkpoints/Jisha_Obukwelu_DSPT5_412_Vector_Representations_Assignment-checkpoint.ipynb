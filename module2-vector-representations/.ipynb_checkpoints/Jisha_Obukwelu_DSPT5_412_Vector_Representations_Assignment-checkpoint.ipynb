{
 "cells": [
  {
   "cell_type": "markdown",
   "metadata": {},
   "source": [
    "<img align=\"left\" src=\"https://lever-client-logos.s3.amazonaws.com/864372b1-534c-480e-acd5-9711f850815c-1524247202159.png\" width=200>\n",
    "<br></br>\n",
    "\n",
    "# Vector Representations\n",
    "## *Data Science Unit 4 Sprint 2 Assignment 2*"
   ]
  },
  {
   "cell_type": "code",
   "execution_count": 1,
   "metadata": {
    "colab": {
     "base_uri": "https://localhost:8080/",
     "height": 159
    },
    "colab_type": "code",
    "id": "hyj-f9FDcVFp",
    "outputId": "5dd045fe-6e4c-458c-e2fc-253c3da9c805"
   },
   "outputs": [],
   "source": [
    "import re\n",
    "import string\n",
    "from collections import Counter\n",
    "\n",
    "from sklearn.feature_extraction.text import CountVectorizer, TfidfVectorizer\n",
    "\n",
    "import pandas as pd\n",
    "import numpy as np\n",
    "\n",
    "import squarify\n",
    "import matplotlib.pyplot as plt\n",
    "\n",
    "import spacy\n",
    "from spacy.tokenizer import Tokenizer\n",
    "\n",
    "from bs4 import BeautifulSoup"
   ]
  },
  {
   "cell_type": "code",
   "execution_count": 2,
   "metadata": {},
   "outputs": [
    {
     "data": {
      "text/html": [
       "<div>\n",
       "<style scoped>\n",
       "    .dataframe tbody tr th:only-of-type {\n",
       "        vertical-align: middle;\n",
       "    }\n",
       "\n",
       "    .dataframe tbody tr th {\n",
       "        vertical-align: top;\n",
       "    }\n",
       "\n",
       "    .dataframe thead th {\n",
       "        text-align: right;\n",
       "    }\n",
       "</style>\n",
       "<table border=\"1\" class=\"dataframe\">\n",
       "  <thead>\n",
       "    <tr style=\"text-align: right;\">\n",
       "      <th></th>\n",
       "      <th>Unnamed: 0</th>\n",
       "      <th>description</th>\n",
       "      <th>title</th>\n",
       "    </tr>\n",
       "  </thead>\n",
       "  <tbody>\n",
       "    <tr>\n",
       "      <th>0</th>\n",
       "      <td>0</td>\n",
       "      <td>b\"&lt;div&gt;&lt;div&gt;Job Requirements:&lt;/div&gt;&lt;ul&gt;&lt;li&gt;&lt;p&gt;...</td>\n",
       "      <td>Data scientist</td>\n",
       "    </tr>\n",
       "    <tr>\n",
       "      <th>1</th>\n",
       "      <td>1</td>\n",
       "      <td>b'&lt;div&gt;Job Description&lt;br/&gt;\\n&lt;br/&gt;\\n&lt;p&gt;As a Da...</td>\n",
       "      <td>Data Scientist I</td>\n",
       "    </tr>\n",
       "    <tr>\n",
       "      <th>2</th>\n",
       "      <td>2</td>\n",
       "      <td>b'&lt;div&gt;&lt;p&gt;As a Data Scientist you will be work...</td>\n",
       "      <td>Data Scientist - Entry Level</td>\n",
       "    </tr>\n",
       "    <tr>\n",
       "      <th>3</th>\n",
       "      <td>3</td>\n",
       "      <td>b'&lt;div class=\"jobsearch-JobMetadataHeader icl-...</td>\n",
       "      <td>Data Scientist</td>\n",
       "    </tr>\n",
       "    <tr>\n",
       "      <th>4</th>\n",
       "      <td>4</td>\n",
       "      <td>b'&lt;ul&gt;&lt;li&gt;Location: USA \\xe2\\x80\\x93 multiple ...</td>\n",
       "      <td>Data Scientist</td>\n",
       "    </tr>\n",
       "    <tr>\n",
       "      <th>...</th>\n",
       "      <td>...</td>\n",
       "      <td>...</td>\n",
       "      <td>...</td>\n",
       "    </tr>\n",
       "    <tr>\n",
       "      <th>421</th>\n",
       "      <td>421</td>\n",
       "      <td>b\"&lt;b&gt;About Us:&lt;/b&gt;&lt;br/&gt;\\nWant to be part of a ...</td>\n",
       "      <td>Senior Data Science Engineer</td>\n",
       "    </tr>\n",
       "    <tr>\n",
       "      <th>422</th>\n",
       "      <td>422</td>\n",
       "      <td>b'&lt;div class=\"jobsearch-JobMetadataHeader icl-...</td>\n",
       "      <td>2019 PhD Data Scientist Internship - Forecasti...</td>\n",
       "    </tr>\n",
       "    <tr>\n",
       "      <th>423</th>\n",
       "      <td>423</td>\n",
       "      <td>b'&lt;div class=\"jobsearch-JobMetadataHeader icl-...</td>\n",
       "      <td>Data Scientist - Insurance</td>\n",
       "    </tr>\n",
       "    <tr>\n",
       "      <th>424</th>\n",
       "      <td>424</td>\n",
       "      <td>b\"&lt;p&gt;&lt;/p&gt;&lt;div&gt;&lt;p&gt;SENIOR DATA SCIENTIST&lt;/p&gt;&lt;p&gt;\\...</td>\n",
       "      <td>Senior Data Scientist</td>\n",
       "    </tr>\n",
       "    <tr>\n",
       "      <th>425</th>\n",
       "      <td>425</td>\n",
       "      <td>b'&lt;div&gt;&lt;/div&gt;&lt;div&gt;&lt;div&gt;&lt;div&gt;&lt;div&gt;&lt;p&gt;Cerner Int...</td>\n",
       "      <td>Data Scientist</td>\n",
       "    </tr>\n",
       "  </tbody>\n",
       "</table>\n",
       "<p>426 rows × 3 columns</p>\n",
       "</div>"
      ],
      "text/plain": [
       "     Unnamed: 0                                        description  \\\n",
       "0             0  b\"<div><div>Job Requirements:</div><ul><li><p>...   \n",
       "1             1  b'<div>Job Description<br/>\\n<br/>\\n<p>As a Da...   \n",
       "2             2  b'<div><p>As a Data Scientist you will be work...   \n",
       "3             3  b'<div class=\"jobsearch-JobMetadataHeader icl-...   \n",
       "4             4  b'<ul><li>Location: USA \\xe2\\x80\\x93 multiple ...   \n",
       "..          ...                                                ...   \n",
       "421         421  b\"<b>About Us:</b><br/>\\nWant to be part of a ...   \n",
       "422         422  b'<div class=\"jobsearch-JobMetadataHeader icl-...   \n",
       "423         423  b'<div class=\"jobsearch-JobMetadataHeader icl-...   \n",
       "424         424  b\"<p></p><div><p>SENIOR DATA SCIENTIST</p><p>\\...   \n",
       "425         425  b'<div></div><div><div><div><div><p>Cerner Int...   \n",
       "\n",
       "                                                 title  \n",
       "0                                      Data scientist   \n",
       "1                                     Data Scientist I  \n",
       "2                         Data Scientist - Entry Level  \n",
       "3                                       Data Scientist  \n",
       "4                                       Data Scientist  \n",
       "..                                                 ...  \n",
       "421                       Senior Data Science Engineer  \n",
       "422  2019 PhD Data Scientist Internship - Forecasti...  \n",
       "423                         Data Scientist - Insurance  \n",
       "424                              Senior Data Scientist  \n",
       "425                                     Data Scientist  \n",
       "\n",
       "[426 rows x 3 columns]"
      ]
     },
     "execution_count": 2,
     "metadata": {},
     "output_type": "execute_result"
    }
   ],
   "source": [
    "df = pd.read_csv(\"data/job_listings.csv\")\n",
    "df"
   ]
  },
  {
   "cell_type": "code",
   "execution_count": 3,
   "metadata": {},
   "outputs": [
    {
     "data": {
      "text/plain": [
       "'b\"<div><div>Job Requirements:</div><ul><li><p>\\\\nConceptual understanding in Machine Learning models like Nai\\\\xc2\\\\xa8ve Bayes, K-Means, SVM, Apriori, Linear/ Logistic Regression, Neural, Random Forests, Decision Trees, K-NN along with hands-on experience in at least 2 of them</p>\\\\n</li><li><p>Intermediate to expert level coding skills in Python/R. (Ability to write functions, clean and efficient data manipulation are mandatory for this role)</p>\\\\n</li><li><p>Exposure to packages like NumPy, SciPy, Pandas, Matplotlib etc in Python or GGPlot2, dplyr, tidyR in R</p>\\\\n</li><li><p>Ability to communicate Model findings to both Technical and Non-Technical stake holders</p>\\\\n</li><li><p>Hands on experience in SQL/Hive or similar programming language</p>\\\\n</li><li><p>Must show past work via GitHub, Kaggle or any other published article</p>\\\\n</li><li><p>Master\\'s degree in Statistics/Mathematics/Computer Science or any other quant specific field.</p></li></ul><div><div><div><div><div><div>\\\\nApply Now</div></div></div></div></div></div></div><div></div>\"'"
      ]
     },
     "execution_count": 3,
     "metadata": {},
     "output_type": "execute_result"
    }
   ],
   "source": [
    "df[\"description\"][0]"
   ]
  },
  {
   "cell_type": "code",
   "execution_count": 4,
   "metadata": {},
   "outputs": [
    {
     "data": {
      "text/plain": [
       "'b\\'<div><p>The Atlantic is seeking a Data Scientist to help lead research and analysis initiatives and support ongoing delivery of key insights to drive business growth and overall impact. The role will work closely with partners in Consumer Revenue, Advertising, Editorial, and Product to understand performance, identify and predict opportunities for improvement, and develop plans of action to maximize revenue, audience growth, and editorial engagement.</p>\\\\n<p>This is a great opportunity to be part of a growing team and help shape the way we develop, deploy, and operate production quality analytics systems and processes\\\\xe2\\\\x80\\\\x94and have an impact on how The Atlantic uses data in the years to come.</p>\\\\n<p><b>Responsibilities:</b></p>\\\\n<ul><li>Lead research projects from hypothesis formation to delivering findings and recommendations to stakeholders</li>\\\\n<li>Use supervised and unsupervised machine learning techniques to make predictions and categorize</li>\\\\n<li>Design, execute, and evaluate tests across the company</li>\\\\n<li>Guide the development of reports, dashboards, and metrics to monitor and improve the performance of our products</li>\\\\n<li>Communicate findings and recommendations in a way that\\\\\\'s easily understood by non-quantitative audiences</li>\\\\n<li>Work with fellow data scientists, engineers, and product managers to understand and meet emerging data needs</li>\\\\n</ul><p><b>Requirements:</b></p>\\\\n<ul><li>The conviction that high-quality journalism is fundamentally important, and the desire to help it thrive</li>\\\\n<li>Degree in math, statistics, economics, computer science, or another quantitative field</li>\\\\n<li>Relevant professional quantitative experience (not necessarily in the media industry)</li>\\\\n<li>Background in consumer revenue, ecommerce, and/or audience development a plus</li>\\\\n<li>Experience presenting to audiences and communicating effectively with a variety of different stakeholders</li>\\\\n<li>Strong SQL skills</li>\\\\n<li>Experience with machine learning techniques in R or Python</li>\\\\n<li>In-depth knowledge of statistical methodologies and tools</li>\\\\n<li>Demonstrated success in analyzing large datasets</li>\\\\n</ul><p><b>Preference will be given to candidates who have:</b></p>\\\\n<ul><li>Experience with Google BigQuery</li>\\\\n<li>Experience with Looker (or Tableau, or other similar BI tools)</li><br/>\\\\n</ul>\\\\n<p></p><p><b>Atlantic Media Values</b>\\\\n<br/>\\\\nAcross Atlantic Media, generally, the firm looks for two \"pillar gifts\" in you, and everyone else. In all of us, these are more aspirational than actual, but they are central in our intentions.</p>\\\\n<ul><li><b>Force of Ideas</b>: At the center of Atlantic Media work are the ideas within our writing. We believe that ideas \\\\xe2\\\\x80\\\\x93 to the good and not \\\\xe2\\\\x80\\\\x93 have consequence. Our highest work is bringing rigor, insight, intellectual honesty, to that ultimate purpose of separating the bad from the good, and giving voice to the latter.</li>\\\\n<li><b>Spirit of Generosity</b>: Atlantic Media seeks in its ranks a spirit of generosity \\\\xe2\\\\x80\\\\x93 a natural disposition in each colleague toward service and selfless conduct. Atlantic Media writing should be cut from the same cloth \\\\xe2\\\\x80\\\\x93 critical on the merits but informed by charity and forbearance in measuring motive and personal character.</li><br/>\\\\n</ul>\\\\n<p></p><p><i>Atlantic Media is an EOE of Minorities/Women/Vets/Disability.</i></p>\\\\n<p><i>Pursuant to the San Francisco Fair Chance Ordinance, we will consider for employment qualified applicants with arrest and conviction records.</i></p></div>\\''"
      ]
     },
     "execution_count": 4,
     "metadata": {},
     "output_type": "execute_result"
    }
   ],
   "source": [
    "df[\"description\"][15]"
   ]
  },
  {
   "cell_type": "markdown",
   "metadata": {
    "colab_type": "text",
    "id": "M7bcmqfGXrFG"
   },
   "source": [
    "## 1) *Clean:* Job Listings from indeed.com that contain the title \"Data Scientist\" \n",
    "\n",
    "You have `job_listings.csv` in the data folder for this module. The text data in the description column is still messy - full of html tags. Use the [BeautifulSoup](https://www.crummy.com/software/BeautifulSoup/bs4/doc/) library to clean up this column. You will need to read through the documentation to accomplish this task. "
   ]
  },
  {
   "cell_type": "code",
   "execution_count": 5,
   "metadata": {
    "colab": {},
    "colab_type": "code",
    "id": "KcYlc1URXhlC"
   },
   "outputs": [],
   "source": [
    "from bs4 import BeautifulSoup\n",
    "import requests\n",
    "\n",
    "def text_cleaner(text):\n",
    "    \"\"\"\n",
    "    Cleans html tags, newlines, and some other characters\n",
    "    \"\"\"\n",
    "    \n",
    "    # Remove html tags\n",
    "    text = BeautifulSoup(text, \"html.parser\").get_text()\n",
    "    \n",
    "    #lowercase string\n",
    "    text = text.lower()\n",
    "    \n",
    "    # Removes new lines\n",
    "    text = text.replace(\"\\\\n\", \" \")\n",
    "    \n",
    "    # Removes backslash\n",
    "    text = text.replace(\"/\", \" \")\n",
    "    \n",
    "    # Remove first 2 characters in description b and quotation marks\n",
    "    text = text[2:]\n",
    "    \n",
    "    # Could not include this in the loop because it would remove the necessary space between two words\n",
    "    text = text.replace(\"\\\\xe2\\\\x80\\\\x94\", \" \")\n",
    "    \n",
    "    \n",
    "#     # googled how to replace unicode \n",
    "#     # https://stackoverflow.com/questions/46154561/remove-zero-width-space-unicode-character-from-python-string\n",
    "#     text = text.encode('ascii', 'ignore').decode('unicode_escape')\n",
    "# did not work as well as I thought\n",
    "\n",
    "    # Removing some strange characters manually\n",
    "    remove = [\"\\\\xe2\\\\x80\\\\xa6\", \"\\\\xc2\\\\xa8\", \"\\\\xe2\\\\x80\\\\x93\", \"\\\\xe2\\\\x80\\\\x99\"]\n",
    "    \n",
    "    for r in remove: \n",
    "        text = text.replace(r, \"\")\n",
    "    \n",
    "    return text\n",
    "    "
   ]
  },
  {
   "cell_type": "code",
   "execution_count": 6,
   "metadata": {},
   "outputs": [
    {
     "data": {
      "text/html": [
       "<div>\n",
       "<style scoped>\n",
       "    .dataframe tbody tr th:only-of-type {\n",
       "        vertical-align: middle;\n",
       "    }\n",
       "\n",
       "    .dataframe tbody tr th {\n",
       "        vertical-align: top;\n",
       "    }\n",
       "\n",
       "    .dataframe thead th {\n",
       "        text-align: right;\n",
       "    }\n",
       "</style>\n",
       "<table border=\"1\" class=\"dataframe\">\n",
       "  <thead>\n",
       "    <tr style=\"text-align: right;\">\n",
       "      <th></th>\n",
       "      <th>Unnamed: 0</th>\n",
       "      <th>description</th>\n",
       "      <th>title</th>\n",
       "    </tr>\n",
       "  </thead>\n",
       "  <tbody>\n",
       "    <tr>\n",
       "      <th>0</th>\n",
       "      <td>0</td>\n",
       "      <td>job requirements: conceptual understanding in ...</td>\n",
       "      <td>Data scientist</td>\n",
       "    </tr>\n",
       "    <tr>\n",
       "      <th>1</th>\n",
       "      <td>1</td>\n",
       "      <td>job description  as a data scientist 1, you wi...</td>\n",
       "      <td>Data Scientist I</td>\n",
       "    </tr>\n",
       "    <tr>\n",
       "      <th>2</th>\n",
       "      <td>2</td>\n",
       "      <td>as a data scientist you will be working on con...</td>\n",
       "      <td>Data Scientist - Entry Level</td>\n",
       "    </tr>\n",
       "    <tr>\n",
       "      <th>3</th>\n",
       "      <td>3</td>\n",
       "      <td>$4,969 - $6,756 a monthcontractunder the gener...</td>\n",
       "      <td>Data Scientist</td>\n",
       "    </tr>\n",
       "    <tr>\n",
       "      <th>4</th>\n",
       "      <td>4</td>\n",
       "      <td>location: usa  multiple locations 2+ years of ...</td>\n",
       "      <td>Data Scientist</td>\n",
       "    </tr>\n",
       "  </tbody>\n",
       "</table>\n",
       "</div>"
      ],
      "text/plain": [
       "   Unnamed: 0                                        description  \\\n",
       "0           0  job requirements: conceptual understanding in ...   \n",
       "1           1  job description  as a data scientist 1, you wi...   \n",
       "2           2  as a data scientist you will be working on con...   \n",
       "3           3  $4,969 - $6,756 a monthcontractunder the gener...   \n",
       "4           4  location: usa  multiple locations 2+ years of ...   \n",
       "\n",
       "                          title  \n",
       "0               Data scientist   \n",
       "1              Data Scientist I  \n",
       "2  Data Scientist - Entry Level  \n",
       "3                Data Scientist  \n",
       "4                Data Scientist  "
      ]
     },
     "execution_count": 6,
     "metadata": {},
     "output_type": "execute_result"
    }
   ],
   "source": [
    "df[\"description\"] = df[\"description\"].apply(text_cleaner)\n",
    "    \n",
    "df.head()"
   ]
  },
  {
   "cell_type": "code",
   "execution_count": 7,
   "metadata": {},
   "outputs": [
    {
     "data": {
      "text/plain": [
       "'job requirements: conceptual understanding in machine learning models like naive bayes, k-means, svm, apriori, linear  logistic regression, neural, random forests, decision trees, k-nn along with hands-on experience in at least 2 of them intermediate to expert level coding skills in python r. (ability to write functions, clean and efficient data manipulation are mandatory for this role) exposure to packages like numpy, scipy, pandas, matplotlib etc in python or ggplot2, dplyr, tidyr in r ability to communicate model findings to both technical and non-technical stake holders hands on experience in sql hive or similar programming language must show past work via github, kaggle or any other published article master\\'s degree in statistics mathematics computer science or any other quant specific field. apply now\"'"
      ]
     },
     "execution_count": 7,
     "metadata": {},
     "output_type": "execute_result"
    }
   ],
   "source": [
    "df[\"description\"][0]"
   ]
  },
  {
   "cell_type": "code",
   "execution_count": 8,
   "metadata": {},
   "outputs": [
    {
     "data": {
      "text/plain": [
       "'the atlantic is seeking a data scientist to help lead research and analysis initiatives and support ongoing delivery of key insights to drive business growth and overall impact. the role will work closely with partners in consumer revenue, advertising, editorial, and product to understand performance, identify and predict opportunities for improvement, and develop plans of action to maximize revenue, audience growth, and editorial engagement. this is a great opportunity to be part of a growing team and help shape the way we develop, deploy, and operate production quality analytics systems and processes and have an impact on how the atlantic uses data in the years to come. responsibilities: lead research projects from hypothesis formation to delivering findings and recommendations to stakeholders use supervised and unsupervised machine learning techniques to make predictions and categorize design, execute, and evaluate tests across the company guide the development of reports, dashboards, and metrics to monitor and improve the performance of our products communicate findings and recommendations in a way that\\\\\\'s easily understood by non-quantitative audiences work with fellow data scientists, engineers, and product managers to understand and meet emerging data needs requirements: the conviction that high-quality journalism is fundamentally important, and the desire to help it thrive degree in math, statistics, economics, computer science, or another quantitative field relevant professional quantitative experience (not necessarily in the media industry) background in consumer revenue, ecommerce, and or audience development a plus experience presenting to audiences and communicating effectively with a variety of different stakeholders strong sql skills experience with machine learning techniques in r or python in-depth knowledge of statistical methodologies and tools demonstrated success in analyzing large datasets preference will be given to candidates who have: experience with google bigquery experience with looker (or tableau, or other similar bi tools)  atlantic media values  across atlantic media, generally, the firm looks for two \"pillar gifts\" in you, and everyone else. in all of us, these are more aspirational than actual, but they are central in our intentions. force of ideas: at the center of atlantic media work are the ideas within our writing. we believe that ideas  to the good and not  have consequence. our highest work is bringing rigor, insight, intellectual honesty, to that ultimate purpose of separating the bad from the good, and giving voice to the latter. spirit of generosity: atlantic media seeks in its ranks a spirit of generosity  a natural disposition in each colleague toward service and selfless conduct. atlantic media writing should be cut from the same cloth  critical on the merits but informed by charity and forbearance in measuring motive and personal character.  atlantic media is an eoe of minorities women vets disability. pursuant to the san francisco fair chance ordinance, we will consider for employment qualified applicants with arrest and conviction records.\\''"
      ]
     },
     "execution_count": 8,
     "metadata": {},
     "output_type": "execute_result"
    }
   ],
   "source": [
    "df[\"description\"][15]"
   ]
  },
  {
   "cell_type": "markdown",
   "metadata": {
    "colab_type": "text",
    "id": "5C4xFZNtX1m2"
   },
   "source": [
    "## 2) Use Spacy to tokenize the listings "
   ]
  },
  {
   "cell_type": "code",
   "execution_count": 9,
   "metadata": {},
   "outputs": [],
   "source": [
    "def document_tokenizer(docs, stop_words = []):\n",
    "    \"\"\"\n",
    "    Utilize tokenizing process into one function\n",
    "    \n",
    "    Returns tockenized document\n",
    "    \"\"\"\n",
    "    nlp = spacy.load(\"en_core_web_lg\")\n",
    "    tokenizer = Tokenizer(nlp.vocab)\n",
    "    \n",
    "    STOP_WORDS = nlp.Defaults.stop_words.union(stop_words)\n",
    "    \n",
    "    tokens = []\n",
    "    \n",
    "    \"\"\" Update those tokens w/o stopwords\"\"\"\n",
    "    for doc in tokenizer.pipe(docs):\n",
    "        \n",
    "        lemmas = []\n",
    "        \n",
    "        for token in doc:\n",
    "            if (token.text.lower() not in STOP_WORDS) and (token.is_punct == False) and (token.is_space == False) and (token.pos_ != 'PRON'):\n",
    "                lemmas.append(token.lemma_.lower())\n",
    "        \n",
    "        tokens.append(lemmas)\n",
    "    \n",
    "    return tokens"
   ]
  },
  {
   "cell_type": "code",
   "execution_count": 10,
   "metadata": {},
   "outputs": [
    {
     "name": "stderr",
     "output_type": "stream",
     "text": [
      "/Applications/anaconda3/envs/U4-S1-NLP/lib/python3.7/site-packages/tqdm/std.py:668: FutureWarning: The Panel class is removed from pandas. Accessing it from the top-level namespace will also be removed in the next version\n",
      "  from pandas import Panel\n"
     ]
    }
   ],
   "source": [
    "from tqdm import tqdm\n",
    "tqdm.pandas()"
   ]
  },
  {
   "cell_type": "code",
   "execution_count": null,
   "metadata": {
    "colab": {},
    "colab_type": "code",
    "id": "dhUHuMr-X-II"
   },
   "outputs": [],
   "source": [
    "df[\"tokens\"] = df[\"description\"].progress_apply(document_tokenizer)\n",
    "df.head()"
   ]
  },
  {
   "cell_type": "markdown",
   "metadata": {},
   "source": [
    "Above took way too long, tokenized in steps instead"
   ]
  },
  {
   "cell_type": "code",
   "execution_count": 11,
   "metadata": {},
   "outputs": [],
   "source": [
    "nlp = spacy.load(\"en_core_web_lg\")\n",
    "tokenizer = Tokenizer(nlp.vocab)"
   ]
  },
  {
   "cell_type": "code",
   "execution_count": 12,
   "metadata": {},
   "outputs": [],
   "source": [
    "# Stop words\n",
    "STOP_WORDS = nlp.Defaults.stop_words.union(['job', 'apply', 'new', 'company', 'opportunity', 'internship', 'work', 'working', 'ability',\n",
    "                                            'understand', 'successful', 'display', 'must'])"
   ]
  },
  {
   "cell_type": "code",
   "execution_count": 15,
   "metadata": {},
   "outputs": [],
   "source": [
    "# pipeline - lemmatize and remove any stopwords or spaces\n",
    "tokens = []\n",
    "\n",
    "for doc in tokenizer.pipe(df[\"description\"]):\n",
    "        \n",
    "        lemmas = []\n",
    "        \n",
    "        for token in doc:\n",
    "            if (token.text.lower() not in STOP_WORDS) and (token.is_punct == False) and (token.is_space == False) and (token.pos_ != 'PRON'):\n",
    "                lemmas.append(token.lemma_.lower())\n",
    "        \n",
    "        tokens.append(lemmas)"
   ]
  },
  {
   "cell_type": "code",
   "execution_count": 16,
   "metadata": {},
   "outputs": [
    {
     "data": {
      "text/plain": [
       "0    [requirements:, conceptual, understand, machin...\n",
       "1    [description, datum, scientist, 1,, help, buil...\n",
       "2    [datum, scientist, consult, business., respons...\n",
       "3    [$4,969, $6,756, monthcontractunder, general, ...\n",
       "4    [location:, usa, multiple, location, 2+, year,...\n",
       "Name: tokens, dtype: object"
      ]
     },
     "execution_count": 16,
     "metadata": {},
     "output_type": "execute_result"
    }
   ],
   "source": [
    "df['tokens'] = tokens\n",
    "df['tokens'].head()"
   ]
  },
  {
   "cell_type": "markdown",
   "metadata": {
    "colab_type": "text",
    "id": "-lgCZNL_YycP"
   },
   "source": [
    "## 3) Use Scikit-Learn's CountVectorizer to get word counts for each listing."
   ]
  },
  {
   "cell_type": "code",
   "execution_count": 17,
   "metadata": {},
   "outputs": [
    {
     "name": "stdout",
     "output_type": "stream",
     "text": [
      "(426, 8820)\n"
     ]
    },
    {
     "data": {
      "text/html": [
       "<div>\n",
       "<style scoped>\n",
       "    .dataframe tbody tr th:only-of-type {\n",
       "        vertical-align: middle;\n",
       "    }\n",
       "\n",
       "    .dataframe tbody tr th {\n",
       "        vertical-align: top;\n",
       "    }\n",
       "\n",
       "    .dataframe thead th {\n",
       "        text-align: right;\n",
       "    }\n",
       "</style>\n",
       "<table border=\"1\" class=\"dataframe\">\n",
       "  <thead>\n",
       "    <tr style=\"text-align: right;\">\n",
       "      <th></th>\n",
       "      <th>00</th>\n",
       "      <th>000</th>\n",
       "      <th>02115</th>\n",
       "      <th>03</th>\n",
       "      <th>0305</th>\n",
       "      <th>0356</th>\n",
       "      <th>04</th>\n",
       "      <th>062</th>\n",
       "      <th>06366</th>\n",
       "      <th>08</th>\n",
       "      <th>...</th>\n",
       "      <th>zf</th>\n",
       "      <th>zfs</th>\n",
       "      <th>zheng</th>\n",
       "      <th>zillow</th>\n",
       "      <th>zogsports</th>\n",
       "      <th>zones</th>\n",
       "      <th>zoom</th>\n",
       "      <th>zuckerberg</th>\n",
       "      <th>zurich</th>\n",
       "      <th>zurichs</th>\n",
       "    </tr>\n",
       "  </thead>\n",
       "  <tbody>\n",
       "    <tr>\n",
       "      <th>0</th>\n",
       "      <td>0</td>\n",
       "      <td>0</td>\n",
       "      <td>0</td>\n",
       "      <td>0</td>\n",
       "      <td>0</td>\n",
       "      <td>0</td>\n",
       "      <td>0</td>\n",
       "      <td>0</td>\n",
       "      <td>0</td>\n",
       "      <td>0</td>\n",
       "      <td>...</td>\n",
       "      <td>0</td>\n",
       "      <td>0</td>\n",
       "      <td>0</td>\n",
       "      <td>0</td>\n",
       "      <td>0</td>\n",
       "      <td>0</td>\n",
       "      <td>0</td>\n",
       "      <td>0</td>\n",
       "      <td>0</td>\n",
       "      <td>0</td>\n",
       "    </tr>\n",
       "    <tr>\n",
       "      <th>1</th>\n",
       "      <td>0</td>\n",
       "      <td>0</td>\n",
       "      <td>0</td>\n",
       "      <td>0</td>\n",
       "      <td>0</td>\n",
       "      <td>0</td>\n",
       "      <td>0</td>\n",
       "      <td>0</td>\n",
       "      <td>0</td>\n",
       "      <td>0</td>\n",
       "      <td>...</td>\n",
       "      <td>0</td>\n",
       "      <td>0</td>\n",
       "      <td>0</td>\n",
       "      <td>0</td>\n",
       "      <td>0</td>\n",
       "      <td>0</td>\n",
       "      <td>0</td>\n",
       "      <td>0</td>\n",
       "      <td>0</td>\n",
       "      <td>0</td>\n",
       "    </tr>\n",
       "    <tr>\n",
       "      <th>2</th>\n",
       "      <td>0</td>\n",
       "      <td>0</td>\n",
       "      <td>0</td>\n",
       "      <td>0</td>\n",
       "      <td>0</td>\n",
       "      <td>0</td>\n",
       "      <td>0</td>\n",
       "      <td>0</td>\n",
       "      <td>0</td>\n",
       "      <td>0</td>\n",
       "      <td>...</td>\n",
       "      <td>0</td>\n",
       "      <td>0</td>\n",
       "      <td>0</td>\n",
       "      <td>0</td>\n",
       "      <td>0</td>\n",
       "      <td>0</td>\n",
       "      <td>0</td>\n",
       "      <td>0</td>\n",
       "      <td>0</td>\n",
       "      <td>0</td>\n",
       "    </tr>\n",
       "    <tr>\n",
       "      <th>3</th>\n",
       "      <td>0</td>\n",
       "      <td>0</td>\n",
       "      <td>0</td>\n",
       "      <td>0</td>\n",
       "      <td>0</td>\n",
       "      <td>0</td>\n",
       "      <td>0</td>\n",
       "      <td>0</td>\n",
       "      <td>0</td>\n",
       "      <td>0</td>\n",
       "      <td>...</td>\n",
       "      <td>0</td>\n",
       "      <td>0</td>\n",
       "      <td>1</td>\n",
       "      <td>0</td>\n",
       "      <td>0</td>\n",
       "      <td>0</td>\n",
       "      <td>0</td>\n",
       "      <td>0</td>\n",
       "      <td>0</td>\n",
       "      <td>0</td>\n",
       "    </tr>\n",
       "    <tr>\n",
       "      <th>4</th>\n",
       "      <td>0</td>\n",
       "      <td>0</td>\n",
       "      <td>0</td>\n",
       "      <td>0</td>\n",
       "      <td>0</td>\n",
       "      <td>0</td>\n",
       "      <td>0</td>\n",
       "      <td>0</td>\n",
       "      <td>0</td>\n",
       "      <td>0</td>\n",
       "      <td>...</td>\n",
       "      <td>0</td>\n",
       "      <td>0</td>\n",
       "      <td>0</td>\n",
       "      <td>0</td>\n",
       "      <td>0</td>\n",
       "      <td>0</td>\n",
       "      <td>0</td>\n",
       "      <td>0</td>\n",
       "      <td>0</td>\n",
       "      <td>0</td>\n",
       "    </tr>\n",
       "  </tbody>\n",
       "</table>\n",
       "<p>5 rows × 8820 columns</p>\n",
       "</div>"
      ],
      "text/plain": [
       "   00  000  02115  03  0305  0356  04  062  06366  08  ...  zf  zfs  zheng  \\\n",
       "0   0    0      0   0     0     0   0    0      0   0  ...   0    0      0   \n",
       "1   0    0      0   0     0     0   0    0      0   0  ...   0    0      0   \n",
       "2   0    0      0   0     0     0   0    0      0   0  ...   0    0      0   \n",
       "3   0    0      0   0     0     0   0    0      0   0  ...   0    0      1   \n",
       "4   0    0      0   0     0     0   0    0      0   0  ...   0    0      0   \n",
       "\n",
       "   zillow  zogsports  zones  zoom  zuckerberg  zurich  zurichs  \n",
       "0       0          0      0     0           0       0        0  \n",
       "1       0          0      0     0           0       0        0  \n",
       "2       0          0      0     0           0       0        0  \n",
       "3       0          0      0     0           0       0        0  \n",
       "4       0          0      0     0           0       0        0  \n",
       "\n",
       "[5 rows x 8820 columns]"
      ]
     },
     "execution_count": 17,
     "metadata": {},
     "output_type": "execute_result"
    }
   ],
   "source": [
    "#Initialize CountVectorizer()\n",
    "vect = CountVectorizer()\n",
    "\n",
    "# Create a vocabulary and get word counts per document\n",
    "dtm = vect.fit_transform(df[\"description\"])\n",
    "\n",
    "dtm = pd.DataFrame(dtm.todense(), columns=vect.get_feature_names())\n",
    "print(dtm.shape)\n",
    "dtm.head()"
   ]
  },
  {
   "cell_type": "markdown",
   "metadata": {
    "colab_type": "text",
    "id": "Zo1iH_UeY7_n"
   },
   "source": [
    "## 4) Visualize the most common word counts"
   ]
  },
  {
   "cell_type": "code",
   "execution_count": 18,
   "metadata": {
    "colab": {},
    "colab_type": "code",
    "id": "M5LB00uyZKV5"
   },
   "outputs": [],
   "source": [
    "# count function\n",
    "def count(docs):\n",
    "\n",
    "        word_counts = Counter()\n",
    "        appears_in = Counter()\n",
    "        \n",
    "        total_docs = len(docs)\n",
    "\n",
    "        for doc in docs:\n",
    "            word_counts.update(doc)\n",
    "            appears_in.update(set(doc))\n",
    "\n",
    "        temp = zip(word_counts.keys(), word_counts.values())\n",
    "        \n",
    "        wc = pd.DataFrame(temp, columns = [\"word\", \"count\"])\n",
    "\n",
    "        wc[\"rank\"] = wc[\"count\"].rank(method=\"first\", ascending=False)\n",
    "        total = wc[\"count\"].sum()\n",
    "\n",
    "        wc[\"pct_total\"] = wc[\"count\"].apply(lambda x: x / total)\n",
    "        \n",
    "        wc = wc.sort_values(by=\"rank\")\n",
    "        wc[\"cul_pct_total\"] = wc[\"pct_total\"].cumsum()\n",
    "\n",
    "        t2 = zip(appears_in.keys(), appears_in.values())\n",
    "        ac = pd.DataFrame(t2, columns=[\"word\", \"appears_in\"])\n",
    "        wc = ac.merge(wc, on=\"word\")\n",
    "\n",
    "        wc[\"appears_in_pct\"] = wc[\"appears_in\"].apply(lambda x: x / total_docs)\n",
    "        \n",
    "        return wc.sort_values(by=\"rank\")"
   ]
  },
  {
   "cell_type": "code",
   "execution_count": 19,
   "metadata": {},
   "outputs": [],
   "source": [
    "wc = count(df[\"tokens\"])"
   ]
  },
  {
   "cell_type": "code",
   "execution_count": 20,
   "metadata": {},
   "outputs": [
    {
     "data": {
      "image/png": "[encoded data removed]",
      "text/plain": [
       "<Figure size 576x576 with 1 Axes>"
      ]
     },
     "metadata": {
      "needs_background": "light"
     },
     "output_type": "display_data"
    }
   ],
   "source": [
    "# graph \n",
    "wc_top20 = wc[wc[\"rank\"] <= 20]\n",
    "\n",
    "plt.figure(figsize = (8,8))\n",
    "squarify.plot(sizes=wc_top20['pct_total'], label=wc_top20['word'], alpha=.75)\n",
    "plt.axis(\"off\")\n",
    "plt.show()"
   ]
  },
  {
   "cell_type": "markdown",
   "metadata": {
    "colab_type": "text",
    "id": "bwFsTqrVZMYi"
   },
   "source": [
    "## 5) Use Scikit-Learn's tfidfVectorizer to get a TF-IDF feature matrix"
   ]
  },
  {
   "cell_type": "code",
   "execution_count": 21,
   "metadata": {
    "colab": {},
    "colab_type": "code",
    "id": "-gx2gZCbl5Np"
   },
   "outputs": [
    {
     "name": "stdout",
     "output_type": "stream",
     "text": [
      "(426, 5000)\n"
     ]
    },
    {
     "data": {
      "text/html": [
       "<div>\n",
       "<style scoped>\n",
       "    .dataframe tbody tr th:only-of-type {\n",
       "        vertical-align: middle;\n",
       "    }\n",
       "\n",
       "    .dataframe tbody tr th {\n",
       "        vertical-align: top;\n",
       "    }\n",
       "\n",
       "    .dataframe thead th {\n",
       "        text-align: right;\n",
       "    }\n",
       "</style>\n",
       "<table border=\"1\" class=\"dataframe\">\n",
       "  <thead>\n",
       "    <tr style=\"text-align: right;\">\n",
       "      <th></th>\n",
       "      <th>000</th>\n",
       "      <th>000 employees</th>\n",
       "      <th>10</th>\n",
       "      <th>10 years</th>\n",
       "      <th>100</th>\n",
       "      <th>100 000</th>\n",
       "      <th>11</th>\n",
       "      <th>12</th>\n",
       "      <th>12 months</th>\n",
       "      <th>15</th>\n",
       "      <th>...</th>\n",
       "      <th>york</th>\n",
       "      <th>york city</th>\n",
       "      <th>youll</th>\n",
       "      <th>youll develop</th>\n",
       "      <th>youll doing</th>\n",
       "      <th>youll need</th>\n",
       "      <th>youll work</th>\n",
       "      <th>youre</th>\n",
       "      <th>youve</th>\n",
       "      <th>yrs</th>\n",
       "    </tr>\n",
       "  </thead>\n",
       "  <tbody>\n",
       "    <tr>\n",
       "      <th>0</th>\n",
       "      <td>0.0</td>\n",
       "      <td>0.0</td>\n",
       "      <td>0.0</td>\n",
       "      <td>0.0</td>\n",
       "      <td>0.0</td>\n",
       "      <td>0.0</td>\n",
       "      <td>0.0</td>\n",
       "      <td>0.0</td>\n",
       "      <td>0.0</td>\n",
       "      <td>0.0</td>\n",
       "      <td>...</td>\n",
       "      <td>0.0</td>\n",
       "      <td>0.0</td>\n",
       "      <td>0.0</td>\n",
       "      <td>0.0</td>\n",
       "      <td>0.0</td>\n",
       "      <td>0.0</td>\n",
       "      <td>0.0</td>\n",
       "      <td>0.0</td>\n",
       "      <td>0.0</td>\n",
       "      <td>0.0</td>\n",
       "    </tr>\n",
       "    <tr>\n",
       "      <th>1</th>\n",
       "      <td>0.0</td>\n",
       "      <td>0.0</td>\n",
       "      <td>0.0</td>\n",
       "      <td>0.0</td>\n",
       "      <td>0.0</td>\n",
       "      <td>0.0</td>\n",
       "      <td>0.0</td>\n",
       "      <td>0.0</td>\n",
       "      <td>0.0</td>\n",
       "      <td>0.0</td>\n",
       "      <td>...</td>\n",
       "      <td>0.0</td>\n",
       "      <td>0.0</td>\n",
       "      <td>0.0</td>\n",
       "      <td>0.0</td>\n",
       "      <td>0.0</td>\n",
       "      <td>0.0</td>\n",
       "      <td>0.0</td>\n",
       "      <td>0.0</td>\n",
       "      <td>0.0</td>\n",
       "      <td>0.0</td>\n",
       "    </tr>\n",
       "    <tr>\n",
       "      <th>2</th>\n",
       "      <td>0.0</td>\n",
       "      <td>0.0</td>\n",
       "      <td>0.0</td>\n",
       "      <td>0.0</td>\n",
       "      <td>0.0</td>\n",
       "      <td>0.0</td>\n",
       "      <td>0.0</td>\n",
       "      <td>0.0</td>\n",
       "      <td>0.0</td>\n",
       "      <td>0.0</td>\n",
       "      <td>...</td>\n",
       "      <td>0.0</td>\n",
       "      <td>0.0</td>\n",
       "      <td>0.0</td>\n",
       "      <td>0.0</td>\n",
       "      <td>0.0</td>\n",
       "      <td>0.0</td>\n",
       "      <td>0.0</td>\n",
       "      <td>0.0</td>\n",
       "      <td>0.0</td>\n",
       "      <td>0.0</td>\n",
       "    </tr>\n",
       "    <tr>\n",
       "      <th>3</th>\n",
       "      <td>0.0</td>\n",
       "      <td>0.0</td>\n",
       "      <td>0.0</td>\n",
       "      <td>0.0</td>\n",
       "      <td>0.0</td>\n",
       "      <td>0.0</td>\n",
       "      <td>0.0</td>\n",
       "      <td>0.0</td>\n",
       "      <td>0.0</td>\n",
       "      <td>0.0</td>\n",
       "      <td>...</td>\n",
       "      <td>0.0</td>\n",
       "      <td>0.0</td>\n",
       "      <td>0.0</td>\n",
       "      <td>0.0</td>\n",
       "      <td>0.0</td>\n",
       "      <td>0.0</td>\n",
       "      <td>0.0</td>\n",
       "      <td>0.0</td>\n",
       "      <td>0.0</td>\n",
       "      <td>0.0</td>\n",
       "    </tr>\n",
       "    <tr>\n",
       "      <th>4</th>\n",
       "      <td>0.0</td>\n",
       "      <td>0.0</td>\n",
       "      <td>0.0</td>\n",
       "      <td>0.0</td>\n",
       "      <td>0.0</td>\n",
       "      <td>0.0</td>\n",
       "      <td>0.0</td>\n",
       "      <td>0.0</td>\n",
       "      <td>0.0</td>\n",
       "      <td>0.0</td>\n",
       "      <td>...</td>\n",
       "      <td>0.0</td>\n",
       "      <td>0.0</td>\n",
       "      <td>0.0</td>\n",
       "      <td>0.0</td>\n",
       "      <td>0.0</td>\n",
       "      <td>0.0</td>\n",
       "      <td>0.0</td>\n",
       "      <td>0.0</td>\n",
       "      <td>0.0</td>\n",
       "      <td>0.0</td>\n",
       "    </tr>\n",
       "  </tbody>\n",
       "</table>\n",
       "<p>5 rows × 5000 columns</p>\n",
       "</div>"
      ],
      "text/plain": [
       "   000  000 employees   10  10 years  100  100 000   11   12  12 months   15  \\\n",
       "0  0.0            0.0  0.0       0.0  0.0      0.0  0.0  0.0        0.0  0.0   \n",
       "1  0.0            0.0  0.0       0.0  0.0      0.0  0.0  0.0        0.0  0.0   \n",
       "2  0.0            0.0  0.0       0.0  0.0      0.0  0.0  0.0        0.0  0.0   \n",
       "3  0.0            0.0  0.0       0.0  0.0      0.0  0.0  0.0        0.0  0.0   \n",
       "4  0.0            0.0  0.0       0.0  0.0      0.0  0.0  0.0        0.0  0.0   \n",
       "\n",
       "   ...  york  york city  youll  youll develop  youll doing  youll need  \\\n",
       "0  ...   0.0        0.0    0.0            0.0          0.0         0.0   \n",
       "1  ...   0.0        0.0    0.0            0.0          0.0         0.0   \n",
       "2  ...   0.0        0.0    0.0            0.0          0.0         0.0   \n",
       "3  ...   0.0        0.0    0.0            0.0          0.0         0.0   \n",
       "4  ...   0.0        0.0    0.0            0.0          0.0         0.0   \n",
       "\n",
       "   youll work  youre  youve  yrs  \n",
       "0         0.0    0.0    0.0  0.0  \n",
       "1         0.0    0.0    0.0  0.0  \n",
       "2         0.0    0.0    0.0  0.0  \n",
       "3         0.0    0.0    0.0  0.0  \n",
       "4         0.0    0.0    0.0  0.0  \n",
       "\n",
       "[5 rows x 5000 columns]"
      ]
     },
     "execution_count": 21,
     "metadata": {},
     "output_type": "execute_result"
    }
   ],
   "source": [
    "tfidf = TfidfVectorizer(stop_words = \"english\",\n",
    "                       ngram_range = (1,2),\n",
    "                       min_df = 3,\n",
    "                       max_df = 0.6,\n",
    "                       max_features = 5000)\n",
    "\n",
    "dtm2 = tfidf.fit_transform(df[\"description\"])\n",
    "\n",
    "dtm2 = pd.DataFrame(dtm2.todense(), columns = tfidf.get_feature_names())\n",
    "\n",
    "print(dtm2.shape)\n",
    "dtm2.head()"
   ]
  },
  {
   "cell_type": "markdown",
   "metadata": {},
   "source": [
    "## 6) Create a NearestNeighbor Model. Write the description of your ideal datascience job and query your job listings. "
   ]
  },
  {
   "cell_type": "code",
   "execution_count": 22,
   "metadata": {
    "collapsed": false,
    "inputHidden": false,
    "jupyter": {
     "outputs_hidden": false
    },
    "outputHidden": false
   },
   "outputs": [
    {
     "data": {
      "text/plain": [
       "NearestNeighbors(algorithm='kd_tree', leaf_size=30, metric='minkowski',\n",
       "                 metric_params=None, n_jobs=None, n_neighbors=5, p=2,\n",
       "                 radius=1.0)"
      ]
     },
     "execution_count": 22,
     "metadata": {},
     "output_type": "execute_result"
    }
   ],
   "source": [
    "from sklearn.neighbors import NearestNeighbors\n",
    "\n",
    "nn = NearestNeighbors(n_neighbors = 5, algorithm = 'kd_tree')\n",
    "nn.fit(dtm2)"
   ]
  },
  {
   "cell_type": "code",
   "execution_count": 23,
   "metadata": {},
   "outputs": [],
   "source": [
    "ideal_job = \"My ideal job would be one where I have lots of opportunity for learning and growth, flexible hours, and a work from home option\""
   ]
  },
  {
   "cell_type": "code",
   "execution_count": 24,
   "metadata": {},
   "outputs": [
    {
     "data": {
      "text/plain": [
       "(array([[1.31578927, 1.31578927, 1.32164445, 1.34105324, 1.34190584]]),\n",
       " array([[107, 259,  82, 200,  17]]))"
      ]
     },
     "execution_count": 24,
     "metadata": {},
     "output_type": "execute_result"
    }
   ],
   "source": [
    "new = tfidf.transform([ideal_job])\n",
    "\n",
    "nn.kneighbors(new.todense())"
   ]
  },
  {
   "cell_type": "code",
   "execution_count": 26,
   "metadata": {},
   "outputs": [
    {
     "data": {
      "text/plain": [
       "\"hrs is looking to add a data scientist to our rapidly growing engineering team. among other things, this individual will be responsible for using data to find answers to questions of healthcare professionals for managing patient care, including areas of risk analysis, statistical anonymization, predictive analytics, and much more. this role will involve working primarily in python and the jupiter labs framework, but since we are a small team each member must be able to learn quickly and be self-sufficient, flexible and motivated to work with many different technologies and applications as needed. this is an exciting opportunity to have a huge impact in the early stages of our data department development, while making a meaningful difference in the lives of clinicians and patients.  minimum qualifications expert with python background in bioinformatics experience with keras, scikitlearn, and tensorflow experience working with jupiter labs or jupiter notebooks ongoing interest in keeping up-to-date with the latest data analysis technologies  additional qualifications familiarity with pandas experience working with restful apis proficiency with a linux or mac command line understanding of scrum agile software development methodologies  benefits & perks competitive salary commensurate with experience flexible hours and work environment paid vacation medical, dental, vision, disability and life insurance packages to fit your needs flexible spending account for medical, commuter benefits 401(k) savings plan unlimited snacks, coffee, and drinks employee events and catered team lunches kegerator zogsports team the opportunity to work with some of the smartest, most driven people in the industry and have fun while doing it!'\""
      ]
     },
     "execution_count": 26,
     "metadata": {},
     "output_type": "execute_result"
    }
   ],
   "source": [
    "df[\"description\"][107]"
   ]
  },
  {
   "cell_type": "code",
   "execution_count": 27,
   "metadata": {},
   "outputs": [
    {
     "data": {
      "text/plain": [
       "\"hrs is looking to add a data scientist to our rapidly growing engineering team. among other things, this individual will be responsible for using data to find answers to questions of healthcare professionals for managing patient care, including areas of risk analysis, statistical anonymization, predictive analytics, and much more. this role will involve working primarily in python and the jupiter labs framework, but since we are a small team each member must be able to learn quickly and be self-sufficient, flexible and motivated to work with many different technologies and applications as needed. this is an exciting opportunity to have a huge impact in the early stages of our data department development, while making a meaningful difference in the lives of clinicians and patients.  minimum qualifications expert with python background in bioinformatics experience with keras, scikitlearn, and tensorflow experience working with jupiter labs or jupiter notebooks ongoing interest in keeping up-to-date with the latest data analysis technologies  additional qualifications familiarity with pandas experience working with restful apis proficiency with a linux or mac command line understanding of scrum agile software development methodologies  benefits & perks competitive salary commensurate with experience flexible hours and work environment paid vacation medical, dental, vision, disability and life insurance packages to fit your needs flexible spending account for medical, commuter benefits 401(k) savings plan unlimited snacks, coffee, and drinks employee events and catered team lunches kegerator zogsports team the opportunity to work with some of the smartest, most driven people in the industry and have fun while doing it!'\""
      ]
     },
     "execution_count": 27,
     "metadata": {},
     "output_type": "execute_result"
    }
   ],
   "source": [
    "df[\"description\"][259]"
   ]
  },
  {
   "cell_type": "code",
   "execution_count": 28,
   "metadata": {},
   "outputs": [
    {
     "data": {
      "text/plain": [
       "'founded in 2015, honor is now one of the fastest-growing, non-medical home care companies in the u.s. why? because we realized that by combining our amazing technology and operations with the local, personal touch of our partner agencies, we could make real progress in transforming this fast-growing, $30bn industry. this unique approach is powering our huge growth - we have cutting-edge machine learning, a beautiful, well-designed app, and industry-leading design, paired with a strong sales, marketing, and support engine.  our mission and ambitions are huge. we\\'re looking for people who believe, as we do, that modernizing home care for our parents and yours is one of the most important problems we can solve. honor is a well-funded, strongly backed company with experienced leaders who have a proven track record of building large businesses and solving extraordinarily difficult challenges. join us!  we\\'re looking for a data scientist to join our team. you\\'ll develop predictive models and algorithms to improve our operations platform and help us provide a better service to our clients. we\\'re looking for a generalist who\\'s excited to jump into new problems and write production-quality code. are you a fit?  in this role, you will:  help people across the company interpret complex data correctly. collaborate with a diverse team across engineering, care operations, product management, sales and marketing, and more. research operational and logistical problems. design, implement, and evaluate descriptive and predictive models. integrate machine learning into user-facing applications.  the ideal candidate will have:  excellent communication skills with both technical and non-technical peers. excellent mathematical and statistical fundamentals, including a degree in a quantitative field (such as computer science, mathematics, statistics, economics, physics). working knowledge of python or comparable programming language. 3+ years of industry experience. experience with numerical software packages such as numpy, scikit-learn, or keras.  honor is an equal opportunity employer. all qualified applicants will receive consideration for employment without regard to race, color, religion, sex (including pregnancy), national origin, age, disability, genetic information, political affiliation or belief.\"'"
      ]
     },
     "execution_count": 28,
     "metadata": {},
     "output_type": "execute_result"
    }
   ],
   "source": [
    "df[\"description\"][82]"
   ]
  },
  {
   "cell_type": "code",
   "execution_count": 29,
   "metadata": {},
   "outputs": [
    {
     "data": {
      "text/plain": [
       "\"about the team zillow is looking for an extraordinary data scientist to join a growing team. zillow is on a mission to give consumers certainty and control when selling their home. in particular, using our unparalleled data, and view into housing markets, to help build a world-class platform for real estate marketplace optimization. in the zillow offers product, zillow buys homes directly from interested homeowners, thereby sparing them the tremendous stress and effort of selling. instead, we take that upon ourselves by quickly preparing these homes for the market and sell them to buyers. this is a key initiative at zillow as we aim to define the future of real estate. this product isnt viable for everyone (yet). when thats the case, we want to make sure we still help consumers sell their home. our team is tasked with absorbing dozens, sometimes billions, of rows of data from various sources, organizing them, analyzing them, and visualizing them to help inform both short- and long-term decision-making. our structure is very flat and you will soon find yourself communicating directly with senior leadership. each team member focuses on a cross-section of the zillow offers organization. about the role once you are here, you\\\\'ll work to make important, strategic decisions that influence the direction of the company. more specifically: you will dive into zillow\\\\'s internal and third party data (think hive, presto, sql server, redshift, python, mode analytics, tableau, r) to make strategic recommendations (e.g., personalized user flows, segmented marketing audiences, more accurate pricing forecasts). you will lead analytical efforts to develop scalable and methodologically rigorous approaches to performance measurement (e.g., ab testing, incrementality testing), forecasting, and other applications of advanced analytics. you will serve as a mentor to other data scientists on the team and analysts across the company by leading learning academies and serving as an available resource for all things related to analytics. you will mature a common language and approach to analyzing and communicating information and insights across teams. you will tell stories that describe analytical results and insights in meetings of all sizes with diverse audiences. you will provide thought leadership across a variety of technical and non-technical audiences to ensure that all levels of zillow group make decision with an analytical foundation. who you are you will not shy away from complexity or uncertainty. you will develop a deep understanding of our mission, business models, and personas. we want you to use that intuition you\\\\'ve developed (both in business and real life) to find opportunities for growth and cultivate insights from our massive data sets. we\\\\'re looking for a seasoned data scientist. we expect: you have an undergraduate or master\\\\'s degree in a quantitative field (e.g. science, engineering, economics, finance, statistics, or similar). you have 2+ years of work experience involving quantitative data analysis and complex problem solving. you have complete command of sql, excel, and either python or r, along with some experience with tableau and or mode. you have extensive experience directly querying multi-terabyte-sized data sets (with hive and presto) including clickstream data (like google analytics), third party data (like facebook) and raw data ingested from non-standard platforms. you have practice with terminology, and measurement issues related to experimentation, along with a history of applying advanced analytical approaches to derive insights from the data. you have strong written, verbal, and visual communication skills to concisely communicate in a way that provides context, offers insights, and minimizes misinterpretation. you have the skills to work cross-functionally and push business partners to focus on realistic goals and projects. get to know us zillow group is owned, fueled and grown by innovators who help people make better, smarter decisions around all things home. we encourage one another at every level, and our efforts are supported by employee-driven, world-class benefits that enable us to enjoy our lives outside the office while building fulfilling careers that impact millions of individuals every day. zillow group is an equal opportunity employer committed to fostering an inclusive, innovative environment with the best employees. therefore, we provide employment opportunities without regard to age, race, color, ancestry, national origin, religion, disability, sex, gender identity or expression, sexual orientation, or any other protected status in accordance with applicable law. if there are preparations we can make to help ensure you have a comfortable and positive interview experience, please let us know.'\""
      ]
     },
     "execution_count": 29,
     "metadata": {},
     "output_type": "execute_result"
    }
   ],
   "source": [
    "df[\"description\"][200]"
   ]
  },
  {
   "cell_type": "code",
   "execution_count": 30,
   "metadata": {},
   "outputs": [
    {
     "data": {
      "text/plain": [
       "\"contractwe are looking to hire for a data scientist (remote).  qualifications: this job is for a data scientist who is an expert in python. developer should also have basic experience with postgres database. goal is to develop a general purpose script that creates various models for user imported datasets and choose the best model for making predictions. must be american citizen authorized to work in us.  overview of work : developer will be working on an already built product that requires new features and bug fixing . self testing and bug fixing is an important part of the job. product is a tool that automates machine learning and makes natural language search and predictions on user imported data. developer will be working on a flexible schedule. he will be part of a remotely working team collaborating through skype and needs to take part in daily calls.  job type: contract to hire'\""
      ]
     },
     "execution_count": 30,
     "metadata": {},
     "output_type": "execute_result"
    }
   ],
   "source": [
    "df[\"description\"][17]"
   ]
  },
  {
   "cell_type": "markdown",
   "metadata": {
    "colab_type": "text",
    "id": "FiDfTWceoRkH"
   },
   "source": [
    "## Stretch Goals\n",
    "\n",
    " - Try different visualizations for words and frequencies - what story do you want to tell with the data?\n",
    " - Scrape Job Listings for the job title \"Data Analyst\". How do these differ from Data Scientist Job Listings\n",
    " - Try and identify requirements for experience specific technologies that are asked for in the job listings. How are those distributed among the job listings?\n",
    " - Use a clustering algorithm to cluster documents by their most important terms. Do the clusters reveal any common themes?\n",
    "  - **Hint:** K-means might not be the best algorithm for this. Do a little bit of research to see what might be good for this. Also, remember that algorithms that depend on Euclidean distance break down with high dimensional data.\n",
    " - Create a labeled dataset - which jobs will you apply for? Train a model to select the jobs you are most likely to apply for. :) "
   ]
  },
  {
   "cell_type": "code",
   "execution_count": null,
   "metadata": {},
   "outputs": [],
   "source": []
  }
 ],
 "metadata": {
  "colab": {
   "collapsed_sections": [],
   "name": "LS_DS_422_BOW_Assignment.ipynb",
   "provenance": [],
   "version": "0.3.2"
  },
  "kernel_info": {
   "name": "python3"
  },
  "kernelspec": {
   "display_name": "U4-S1-NLP (Python3)",
   "language": "python",
   "name": "u4-s1-nlp"
  },
  "language_info": {
   "codemirror_mode": {
    "name": "ipython",
    "version": 3
   },
   "file_extension": ".py",
   "mimetype": "text/x-python",
   "name": "python",
   "nbconvert_exporter": "python",
   "pygments_lexer": "ipython3",
   "version": "3.7.0"
  },
  "nteract": {
   "version": "0.14.3"
  }
 },
 "nbformat": 4,
 "nbformat_minor": 4
}
