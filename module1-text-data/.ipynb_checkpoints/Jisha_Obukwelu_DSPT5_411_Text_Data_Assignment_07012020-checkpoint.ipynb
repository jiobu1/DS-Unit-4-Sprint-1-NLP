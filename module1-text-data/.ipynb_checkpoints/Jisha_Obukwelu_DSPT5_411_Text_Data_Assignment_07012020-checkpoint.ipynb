{
 "cells": [
  {
   "cell_type": "markdown",
   "metadata": {},
   "source": [
    "<img align=\"left\" src=\"https://lever-client-logos.s3.amazonaws.com/864372b1-534c-480e-acd5-9711f850815c-1524247202159.png\" width=200>\n",
    "<br></br>\n",
    "<br></br>\n",
    "\n",
    "# Natural Language Processing (NLP)\n",
    "## *Data Science Unit 4 Sprint 1 Assignment 1*\n",
    "\n",
    "Your goal in this assignment: find the attributes of the best & worst coffee shops in the dataset. The text is fairly raw: dates in the review, extra words in the `star_rating` column, etc. You'll probably want to clean that stuff up for a better analysis. \n",
    "\n",
    "Analyze the corpus of text using text visualizations of token frequency. Try cleaning the data as much as possible. Try the following techniques: \n",
    "- Lemmatization\n",
    "- Custom stopword removal\n",
    "\n",
    "Keep in mind the attributes of good tokens. Once you have a solid baseline, layer in the star rating in your visualization(s). Key part of this assignment - produce a write-up of the attributes of the best and worst coffee shops. Based on your analysis, what makes the best the best and the worst the worst. Use graphs and numbesr from your analysis to support your conclusions. There should be plenty of markdown cells! :coffee:"
   ]
  },
  {
   "cell_type": "code",
   "execution_count": 1,
   "metadata": {},
   "outputs": [
    {
     "data": {
      "image/jpeg": "[encoded data removed]",
      "text/html": [
       "\n",
       "        <iframe\n",
       "            width=\"400\"\n",
       "            height=\"300\"\n",
       "            src=\"https://www.youtube.com/embed/Jml7NVYm8cs\"\n",
       "            frameborder=\"0\"\n",
       "            allowfullscreen\n",
       "        ></iframe>\n",
       "        "
      ],
      "text/plain": [
       "<IPython.lib.display.YouTubeVideo at 0x7fee253449e8>"
      ]
     },
     "execution_count": 1,
     "metadata": {},
     "output_type": "execute_result"
    }
   ],
   "source": [
    "from IPython.display import YouTubeVideo\n",
    "\n",
    "YouTubeVideo('Jml7NVYm8cs')"
   ]
  },
  {
   "cell_type": "code",
   "execution_count": 2,
   "metadata": {},
   "outputs": [
    {
     "data": {
      "text/plain": [
       "'/Users/jisha/Desktop/Lambda_Course_Work/Coursework/Unit4/Unit_410_NLP/module1-text-data'"
      ]
     },
     "execution_count": 2,
     "metadata": {},
     "output_type": "execute_result"
    }
   ],
   "source": [
    "%pwd"
   ]
  },
  {
   "cell_type": "code",
   "execution_count": 3,
   "metadata": {},
   "outputs": [
    {
     "data": {
      "text/html": [
       "<div>\n",
       "<style scoped>\n",
       "    .dataframe tbody tr th:only-of-type {\n",
       "        vertical-align: middle;\n",
       "    }\n",
       "\n",
       "    .dataframe tbody tr th {\n",
       "        vertical-align: top;\n",
       "    }\n",
       "\n",
       "    .dataframe thead th {\n",
       "        text-align: right;\n",
       "    }\n",
       "</style>\n",
       "<table border=\"1\" class=\"dataframe\">\n",
       "  <thead>\n",
       "    <tr style=\"text-align: right;\">\n",
       "      <th></th>\n",
       "      <th>coffee_shop_name</th>\n",
       "      <th>full_review_text</th>\n",
       "      <th>star_rating</th>\n",
       "    </tr>\n",
       "  </thead>\n",
       "  <tbody>\n",
       "    <tr>\n",
       "      <th>0</th>\n",
       "      <td>The Factory - Cafe With a Soul</td>\n",
       "      <td>11/25/2016 1 check-in Love love loved the atm...</td>\n",
       "      <td>5.0 star rating</td>\n",
       "    </tr>\n",
       "    <tr>\n",
       "      <th>1</th>\n",
       "      <td>The Factory - Cafe With a Soul</td>\n",
       "      <td>12/2/2016 Listed in Date Night: Austin, Ambia...</td>\n",
       "      <td>4.0 star rating</td>\n",
       "    </tr>\n",
       "    <tr>\n",
       "      <th>2</th>\n",
       "      <td>The Factory - Cafe With a Soul</td>\n",
       "      <td>11/30/2016 1 check-in Listed in Brunch Spots ...</td>\n",
       "      <td>4.0 star rating</td>\n",
       "    </tr>\n",
       "    <tr>\n",
       "      <th>3</th>\n",
       "      <td>The Factory - Cafe With a Soul</td>\n",
       "      <td>11/25/2016 Very cool decor! Good drinks Nice ...</td>\n",
       "      <td>2.0 star rating</td>\n",
       "    </tr>\n",
       "    <tr>\n",
       "      <th>4</th>\n",
       "      <td>The Factory - Cafe With a Soul</td>\n",
       "      <td>12/3/2016 1 check-in They are located within ...</td>\n",
       "      <td>4.0 star rating</td>\n",
       "    </tr>\n",
       "  </tbody>\n",
       "</table>\n",
       "</div>"
      ],
      "text/plain": [
       "                  coffee_shop_name  \\\n",
       "0  The Factory - Cafe With a Soul    \n",
       "1  The Factory - Cafe With a Soul    \n",
       "2  The Factory - Cafe With a Soul    \n",
       "3  The Factory - Cafe With a Soul    \n",
       "4  The Factory - Cafe With a Soul    \n",
       "\n",
       "                                    full_review_text        star_rating  \n",
       "0   11/25/2016 1 check-in Love love loved the atm...   5.0 star rating   \n",
       "1   12/2/2016 Listed in Date Night: Austin, Ambia...   4.0 star rating   \n",
       "2   11/30/2016 1 check-in Listed in Brunch Spots ...   4.0 star rating   \n",
       "3   11/25/2016 Very cool decor! Good drinks Nice ...   2.0 star rating   \n",
       "4   12/3/2016 1 check-in They are located within ...   4.0 star rating   "
      ]
     },
     "execution_count": 3,
     "metadata": {},
     "output_type": "execute_result"
    }
   ],
   "source": [
    "import pandas as pd\n",
    "\n",
    "url = \"https://raw.githubusercontent.com/jiobu1/DS-Unit-4-Sprint-1-NLP/main/module1-text-data/data/yelp_coffeeshop_review_data.csv\"\n",
    "\n",
    "shops = pd.read_csv(url)\n",
    "shops.head()"
   ]
  },
  {
   "cell_type": "code",
   "execution_count": 4,
   "metadata": {},
   "outputs": [],
   "source": [
    "pd.set_option('display.max_rows', None)"
   ]
  },
  {
   "cell_type": "code",
   "execution_count": 5,
   "metadata": {},
   "outputs": [],
   "source": [
    "\"\"\"\n",
    "Import Statements\n",
    "\"\"\"\n",
    "\n",
    "# Base\n",
    "from collections import Counter\n",
    "import re\n",
    " \n",
    "import pandas as pd\n",
    "\n",
    "# Plotting\n",
    "import squarify\n",
    "import matplotlib.pyplot as plt\n",
    "import seaborn as sns\n",
    "\n",
    "# NLP Libraries\n",
    "import spacy\n",
    "from spacy.tokenizer import Tokenizer\n",
    "from nltk.stem import PorterStemmer\n",
    "\n",
    "nlp = spacy.load(\"en_core_web_lg\")\n",
    "\n",
    "# Tokenizer\n",
    "tokenizer = Tokenizer(nlp.vocab)"
   ]
  },
  {
   "cell_type": "markdown",
   "metadata": {},
   "source": [
    "### **1. The date needs to be removed or put in its own column**"
   ]
  },
  {
   "cell_type": "code",
   "execution_count": 6,
   "metadata": {},
   "outputs": [
    {
     "data": {
      "text/html": [
       "<div>\n",
       "<style scoped>\n",
       "    .dataframe tbody tr th:only-of-type {\n",
       "        vertical-align: middle;\n",
       "    }\n",
       "\n",
       "    .dataframe tbody tr th {\n",
       "        vertical-align: top;\n",
       "    }\n",
       "\n",
       "    .dataframe thead th {\n",
       "        text-align: right;\n",
       "    }\n",
       "</style>\n",
       "<table border=\"1\" class=\"dataframe\">\n",
       "  <thead>\n",
       "    <tr style=\"text-align: right;\">\n",
       "      <th></th>\n",
       "      <th>coffee_shop_name</th>\n",
       "      <th>full_review_text</th>\n",
       "      <th>star_rating</th>\n",
       "      <th>review_date</th>\n",
       "    </tr>\n",
       "  </thead>\n",
       "  <tbody>\n",
       "    <tr>\n",
       "      <th>0</th>\n",
       "      <td>The Factory - Cafe With a Soul</td>\n",
       "      <td>11/25/2016 1 check-in Love love loved the atm...</td>\n",
       "      <td>5.0 star rating</td>\n",
       "      <td>11/25/2016</td>\n",
       "    </tr>\n",
       "    <tr>\n",
       "      <th>1</th>\n",
       "      <td>The Factory - Cafe With a Soul</td>\n",
       "      <td>12/2/2016 Listed in Date Night: Austin, Ambia...</td>\n",
       "      <td>4.0 star rating</td>\n",
       "      <td>12/2/2016</td>\n",
       "    </tr>\n",
       "    <tr>\n",
       "      <th>2</th>\n",
       "      <td>The Factory - Cafe With a Soul</td>\n",
       "      <td>11/30/2016 1 check-in Listed in Brunch Spots ...</td>\n",
       "      <td>4.0 star rating</td>\n",
       "      <td>11/30/2016</td>\n",
       "    </tr>\n",
       "    <tr>\n",
       "      <th>3</th>\n",
       "      <td>The Factory - Cafe With a Soul</td>\n",
       "      <td>11/25/2016 Very cool decor! Good drinks Nice ...</td>\n",
       "      <td>2.0 star rating</td>\n",
       "      <td>11/25/2016</td>\n",
       "    </tr>\n",
       "    <tr>\n",
       "      <th>4</th>\n",
       "      <td>The Factory - Cafe With a Soul</td>\n",
       "      <td>12/3/2016 1 check-in They are located within ...</td>\n",
       "      <td>4.0 star rating</td>\n",
       "      <td>12/3/2016</td>\n",
       "    </tr>\n",
       "  </tbody>\n",
       "</table>\n",
       "</div>"
      ],
      "text/plain": [
       "                  coffee_shop_name  \\\n",
       "0  The Factory - Cafe With a Soul    \n",
       "1  The Factory - Cafe With a Soul    \n",
       "2  The Factory - Cafe With a Soul    \n",
       "3  The Factory - Cafe With a Soul    \n",
       "4  The Factory - Cafe With a Soul    \n",
       "\n",
       "                                    full_review_text        star_rating  \\\n",
       "0   11/25/2016 1 check-in Love love loved the atm...   5.0 star rating    \n",
       "1   12/2/2016 Listed in Date Night: Austin, Ambia...   4.0 star rating    \n",
       "2   11/30/2016 1 check-in Listed in Brunch Spots ...   4.0 star rating    \n",
       "3   11/25/2016 Very cool decor! Good drinks Nice ...   2.0 star rating    \n",
       "4   12/3/2016 1 check-in They are located within ...   4.0 star rating    \n",
       "\n",
       "  review_date  \n",
       "0  11/25/2016  \n",
       "1   12/2/2016  \n",
       "2  11/30/2016  \n",
       "3  11/25/2016  \n",
       "4   12/3/2016  "
      ]
     },
     "execution_count": 6,
     "metadata": {},
     "output_type": "execute_result"
    }
   ],
   "source": [
    "import re\n",
    "\n",
    "dates=[]\n",
    "for text in shops[\"full_review_text\"]:\n",
    "    dates.append(re.findall(r\"\\b[0-3]?[0-9]/[0-3]?[0-9]/(?:[0-9]{2})?[0-9]{2}\\b\", text)[0])\n",
    "\n",
    "shops[\"review_date\"]=dates\n",
    "shops.head()"
   ]
  },
  {
   "cell_type": "markdown",
   "metadata": {},
   "source": [
    "### **2. Remove dates and lowercase review text**"
   ]
  },
  {
   "cell_type": "code",
   "execution_count": 7,
   "metadata": {},
   "outputs": [],
   "source": [
    "shops['full_review_text'] = shops['full_review_text'].apply(lambda x: re.sub(\"\\d+\\/\\d+\\/\\d+\", \"\", x))"
   ]
  },
  {
   "cell_type": "code",
   "execution_count": 8,
   "metadata": {},
   "outputs": [],
   "source": [
    "shops[\"full_review_text\"] = shops[\"full_review_text\"].apply(lambda x: re.sub(\"[^a-zA-Z]\", \" \", x))"
   ]
  },
  {
   "cell_type": "code",
   "execution_count": 9,
   "metadata": {},
   "outputs": [],
   "source": [
    "shops[\"full_review_text\"] = shops[\"full_review_text\"].apply(lambda x: x.lower())"
   ]
  },
  {
   "cell_type": "code",
   "execution_count": 10,
   "metadata": {},
   "outputs": [
    {
     "data": {
      "text/plain": [
       "0        check in love love loved the atmosphere  e...\n",
       "1      listed in date night  austin  ambiance in au...\n",
       "2        check in listed in brunch spots i loved th...\n",
       "3      very cool decor  good drinks nice seating  h...\n",
       "4        check in they are located within the north...\n",
       "Name: full_review_text, dtype: object"
      ]
     },
     "execution_count": 10,
     "metadata": {},
     "output_type": "execute_result"
    }
   ],
   "source": [
    "shops[\"full_review_text\"].head()"
   ]
  },
  {
   "cell_type": "markdown",
   "metadata": {},
   "source": [
    "### **3. Make star rating a float column**"
   ]
  },
  {
   "cell_type": "code",
   "execution_count": 11,
   "metadata": {},
   "outputs": [
    {
     "data": {
      "text/html": [
       "<div>\n",
       "<style scoped>\n",
       "    .dataframe tbody tr th:only-of-type {\n",
       "        vertical-align: middle;\n",
       "    }\n",
       "\n",
       "    .dataframe tbody tr th {\n",
       "        vertical-align: top;\n",
       "    }\n",
       "\n",
       "    .dataframe thead th {\n",
       "        text-align: right;\n",
       "    }\n",
       "</style>\n",
       "<table border=\"1\" class=\"dataframe\">\n",
       "  <thead>\n",
       "    <tr style=\"text-align: right;\">\n",
       "      <th></th>\n",
       "      <th>coffee_shop_name</th>\n",
       "      <th>full_review_text</th>\n",
       "      <th>star_rating</th>\n",
       "      <th>review_date</th>\n",
       "    </tr>\n",
       "  </thead>\n",
       "  <tbody>\n",
       "    <tr>\n",
       "      <th>0</th>\n",
       "      <td>The Factory - Cafe With a Soul</td>\n",
       "      <td>check in love love loved the atmosphere  e...</td>\n",
       "      <td>5.0</td>\n",
       "      <td>11/25/2016</td>\n",
       "    </tr>\n",
       "    <tr>\n",
       "      <th>1</th>\n",
       "      <td>The Factory - Cafe With a Soul</td>\n",
       "      <td>listed in date night  austin  ambiance in au...</td>\n",
       "      <td>4.0</td>\n",
       "      <td>12/2/2016</td>\n",
       "    </tr>\n",
       "    <tr>\n",
       "      <th>2</th>\n",
       "      <td>The Factory - Cafe With a Soul</td>\n",
       "      <td>check in listed in brunch spots i loved th...</td>\n",
       "      <td>4.0</td>\n",
       "      <td>11/30/2016</td>\n",
       "    </tr>\n",
       "    <tr>\n",
       "      <th>3</th>\n",
       "      <td>The Factory - Cafe With a Soul</td>\n",
       "      <td>very cool decor  good drinks nice seating  h...</td>\n",
       "      <td>2.0</td>\n",
       "      <td>11/25/2016</td>\n",
       "    </tr>\n",
       "    <tr>\n",
       "      <th>4</th>\n",
       "      <td>The Factory - Cafe With a Soul</td>\n",
       "      <td>check in they are located within the north...</td>\n",
       "      <td>4.0</td>\n",
       "      <td>12/3/2016</td>\n",
       "    </tr>\n",
       "  </tbody>\n",
       "</table>\n",
       "</div>"
      ],
      "text/plain": [
       "                  coffee_shop_name  \\\n",
       "0  The Factory - Cafe With a Soul    \n",
       "1  The Factory - Cafe With a Soul    \n",
       "2  The Factory - Cafe With a Soul    \n",
       "3  The Factory - Cafe With a Soul    \n",
       "4  The Factory - Cafe With a Soul    \n",
       "\n",
       "                                    full_review_text  star_rating review_date  \n",
       "0      check in love love loved the atmosphere  e...          5.0  11/25/2016  \n",
       "1    listed in date night  austin  ambiance in au...          4.0   12/2/2016  \n",
       "2      check in listed in brunch spots i loved th...          4.0  11/30/2016  \n",
       "3    very cool decor  good drinks nice seating  h...          2.0  11/25/2016  \n",
       "4      check in they are located within the north...          4.0   12/3/2016  "
      ]
     },
     "execution_count": 11,
     "metadata": {},
     "output_type": "execute_result"
    }
   ],
   "source": [
    "shops[\"star_rating\"]=shops[\"star_rating\"].str.replace(\" star rating\", \"\")\n",
    "shops[\"star_rating\"]=shops[\"star_rating\"].astype(float)\n",
    "shops.head()"
   ]
  },
  {
   "cell_type": "markdown",
   "metadata": {},
   "source": [
    "### **4. Check DataFrame after cleanng**"
   ]
  },
  {
   "cell_type": "code",
   "execution_count": 12,
   "metadata": {},
   "outputs": [
    {
     "data": {
      "text/plain": [
       "coffee_shop_name    0\n",
       "full_review_text    0\n",
       "star_rating         0\n",
       "review_date         0\n",
       "dtype: int64"
      ]
     },
     "execution_count": 12,
     "metadata": {},
     "output_type": "execute_result"
    }
   ],
   "source": [
    "shops.isna().sum()"
   ]
  },
  {
   "cell_type": "code",
   "execution_count": 13,
   "metadata": {},
   "outputs": [
    {
     "data": {
      "text/html": [
       "<div>\n",
       "<style scoped>\n",
       "    .dataframe tbody tr th:only-of-type {\n",
       "        vertical-align: middle;\n",
       "    }\n",
       "\n",
       "    .dataframe tbody tr th {\n",
       "        vertical-align: top;\n",
       "    }\n",
       "\n",
       "    .dataframe thead th {\n",
       "        text-align: right;\n",
       "    }\n",
       "</style>\n",
       "<table border=\"1\" class=\"dataframe\">\n",
       "  <thead>\n",
       "    <tr style=\"text-align: right;\">\n",
       "      <th></th>\n",
       "      <th>coffee_shop_name</th>\n",
       "      <th>full_review_text</th>\n",
       "      <th>star_rating</th>\n",
       "      <th>review_date</th>\n",
       "    </tr>\n",
       "  </thead>\n",
       "  <tbody>\n",
       "    <tr>\n",
       "      <th>0</th>\n",
       "      <td>The Factory - Cafe With a Soul</td>\n",
       "      <td>check in love love loved the atmosphere  e...</td>\n",
       "      <td>5.0</td>\n",
       "      <td>11/25/2016</td>\n",
       "    </tr>\n",
       "    <tr>\n",
       "      <th>1</th>\n",
       "      <td>The Factory - Cafe With a Soul</td>\n",
       "      <td>listed in date night  austin  ambiance in au...</td>\n",
       "      <td>4.0</td>\n",
       "      <td>12/2/2016</td>\n",
       "    </tr>\n",
       "    <tr>\n",
       "      <th>2</th>\n",
       "      <td>The Factory - Cafe With a Soul</td>\n",
       "      <td>check in listed in brunch spots i loved th...</td>\n",
       "      <td>4.0</td>\n",
       "      <td>11/30/2016</td>\n",
       "    </tr>\n",
       "    <tr>\n",
       "      <th>3</th>\n",
       "      <td>The Factory - Cafe With a Soul</td>\n",
       "      <td>very cool decor  good drinks nice seating  h...</td>\n",
       "      <td>2.0</td>\n",
       "      <td>11/25/2016</td>\n",
       "    </tr>\n",
       "    <tr>\n",
       "      <th>4</th>\n",
       "      <td>The Factory - Cafe With a Soul</td>\n",
       "      <td>check in they are located within the north...</td>\n",
       "      <td>4.0</td>\n",
       "      <td>12/3/2016</td>\n",
       "    </tr>\n",
       "  </tbody>\n",
       "</table>\n",
       "</div>"
      ],
      "text/plain": [
       "                  coffee_shop_name  \\\n",
       "0  The Factory - Cafe With a Soul    \n",
       "1  The Factory - Cafe With a Soul    \n",
       "2  The Factory - Cafe With a Soul    \n",
       "3  The Factory - Cafe With a Soul    \n",
       "4  The Factory - Cafe With a Soul    \n",
       "\n",
       "                                    full_review_text  star_rating review_date  \n",
       "0      check in love love loved the atmosphere  e...          5.0  11/25/2016  \n",
       "1    listed in date night  austin  ambiance in au...          4.0   12/2/2016  \n",
       "2      check in listed in brunch spots i loved th...          4.0  11/30/2016  \n",
       "3    very cool decor  good drinks nice seating  h...          2.0  11/25/2016  \n",
       "4      check in they are located within the north...          4.0   12/3/2016  "
      ]
     },
     "execution_count": 13,
     "metadata": {},
     "output_type": "execute_result"
    }
   ],
   "source": [
    "shops.head()"
   ]
  },
  {
   "cell_type": "markdown",
   "metadata": {},
   "source": [
    "# Clean Data"
   ]
  },
  {
   "cell_type": "markdown",
   "metadata": {},
   "source": [
    "### **1a. Rating distribution**"
   ]
  },
  {
   "cell_type": "code",
   "execution_count": 14,
   "metadata": {},
   "outputs": [
    {
     "data": {
      "text/plain": [
       "5.0    3780\n",
       "4.0    2360\n",
       "3.0     738\n",
       "2.0     460\n",
       "1.0     278\n",
       "Name: star_rating, dtype: int64"
      ]
     },
     "execution_count": 14,
     "metadata": {},
     "output_type": "execute_result"
    }
   ],
   "source": [
    "shops[\"star_rating\"].value_counts()"
   ]
  },
  {
   "cell_type": "markdown",
   "metadata": {},
   "source": [
    "### **1b. Adding Check-In column**"
   ]
  },
  {
   "cell_type": "code",
   "execution_count": 15,
   "metadata": {},
   "outputs": [],
   "source": [
    "look_up =[\"check in\"]\n",
    "\n",
    "def matcher(x):\n",
    "    for i in look_up:\n",
    "        if i.lower() in x.lower():\n",
    "            return 1\n",
    "    else:\n",
    "        return 0\n",
    "\n",
    "shops[\"check_in\"] = shops[\"full_review_text\"].apply(matcher)"
   ]
  },
  {
   "cell_type": "code",
   "execution_count": 16,
   "metadata": {},
   "outputs": [],
   "source": [
    "shops[\"full_review_text\"] = shops[\"full_review_text\"].apply(lambda x: re.sub(\"check in\", \"\", x))"
   ]
  },
  {
   "cell_type": "markdown",
   "metadata": {},
   "source": [
    "### **1c. Trying to Remove Leading Spaces**"
   ]
  },
  {
   "cell_type": "code",
   "execution_count": 17,
   "metadata": {},
   "outputs": [],
   "source": [
    "shops[\"full_review_text\"] = shops[\"full_review_text\"].str.lstrip()"
   ]
  },
  {
   "cell_type": "code",
   "execution_count": 18,
   "metadata": {},
   "outputs": [
    {
     "data": {
      "text/html": [
       "<div>\n",
       "<style scoped>\n",
       "    .dataframe tbody tr th:only-of-type {\n",
       "        vertical-align: middle;\n",
       "    }\n",
       "\n",
       "    .dataframe tbody tr th {\n",
       "        vertical-align: top;\n",
       "    }\n",
       "\n",
       "    .dataframe thead th {\n",
       "        text-align: right;\n",
       "    }\n",
       "</style>\n",
       "<table border=\"1\" class=\"dataframe\">\n",
       "  <thead>\n",
       "    <tr style=\"text-align: right;\">\n",
       "      <th></th>\n",
       "      <th>coffee_shop_name</th>\n",
       "      <th>full_review_text</th>\n",
       "      <th>star_rating</th>\n",
       "      <th>review_date</th>\n",
       "      <th>check_in</th>\n",
       "    </tr>\n",
       "  </thead>\n",
       "  <tbody>\n",
       "    <tr>\n",
       "      <th>0</th>\n",
       "      <td>The Factory - Cafe With a Soul</td>\n",
       "      <td>love love loved the atmosphere  every corner o...</td>\n",
       "      <td>5.0</td>\n",
       "      <td>11/25/2016</td>\n",
       "      <td>1</td>\n",
       "    </tr>\n",
       "    <tr>\n",
       "      <th>1</th>\n",
       "      <td>The Factory - Cafe With a Soul</td>\n",
       "      <td>listed in date night  austin  ambiance in aust...</td>\n",
       "      <td>4.0</td>\n",
       "      <td>12/2/2016</td>\n",
       "      <td>0</td>\n",
       "    </tr>\n",
       "    <tr>\n",
       "      <th>2</th>\n",
       "      <td>The Factory - Cafe With a Soul</td>\n",
       "      <td>listed in brunch spots i loved the eclectic an...</td>\n",
       "      <td>4.0</td>\n",
       "      <td>11/30/2016</td>\n",
       "      <td>1</td>\n",
       "    </tr>\n",
       "    <tr>\n",
       "      <th>3</th>\n",
       "      <td>The Factory - Cafe With a Soul</td>\n",
       "      <td>very cool decor  good drinks nice seating  how...</td>\n",
       "      <td>2.0</td>\n",
       "      <td>11/25/2016</td>\n",
       "      <td>0</td>\n",
       "    </tr>\n",
       "    <tr>\n",
       "      <th>4</th>\n",
       "      <td>The Factory - Cafe With a Soul</td>\n",
       "      <td>they are located within the northcross mall sh...</td>\n",
       "      <td>4.0</td>\n",
       "      <td>12/3/2016</td>\n",
       "      <td>1</td>\n",
       "    </tr>\n",
       "  </tbody>\n",
       "</table>\n",
       "</div>"
      ],
      "text/plain": [
       "                  coffee_shop_name  \\\n",
       "0  The Factory - Cafe With a Soul    \n",
       "1  The Factory - Cafe With a Soul    \n",
       "2  The Factory - Cafe With a Soul    \n",
       "3  The Factory - Cafe With a Soul    \n",
       "4  The Factory - Cafe With a Soul    \n",
       "\n",
       "                                    full_review_text  star_rating review_date  \\\n",
       "0  love love loved the atmosphere  every corner o...          5.0  11/25/2016   \n",
       "1  listed in date night  austin  ambiance in aust...          4.0   12/2/2016   \n",
       "2  listed in brunch spots i loved the eclectic an...          4.0  11/30/2016   \n",
       "3  very cool decor  good drinks nice seating  how...          2.0  11/25/2016   \n",
       "4  they are located within the northcross mall sh...          4.0   12/3/2016   \n",
       "\n",
       "   check_in  \n",
       "0         1  \n",
       "1         0  \n",
       "2         1  \n",
       "3         0  \n",
       "4         1  "
      ]
     },
     "execution_count": 18,
     "metadata": {},
     "output_type": "execute_result"
    }
   ],
   "source": [
    "shops.head()"
   ]
  },
  {
   "cell_type": "markdown",
   "metadata": {},
   "source": [
    "### **2. Apply generic nlp stop words**"
   ]
  },
  {
   "cell_type": "code",
   "execution_count": 19,
   "metadata": {},
   "outputs": [],
   "source": [
    "nlp.Defaults.stop_words\n",
    "\n",
    "tokens = []\n",
    "\n",
    "\"\"\" Update those tokens w/o stopwords\"\"\"\n",
    "for doc in tokenizer.pipe(shops[\"full_review_text\"], batch_size=500):\n",
    "    \n",
    "    doc_tokens = []\n",
    "    \n",
    "    for token in doc:\n",
    "        if (token.is_stop == False) & (token.is_punct == False):\n",
    "            doc_tokens.append(token.text.lower())\n",
    "\n",
    "    tokens.append(doc_tokens)\n",
    "\n",
    "shops[\"tokens\"] = tokens"
   ]
  },
  {
   "cell_type": "code",
   "execution_count": 20,
   "metadata": {},
   "outputs": [
    {
     "data": {
      "text/plain": [
       "0    [love, love, loved, atmosphere,  , corner, cof...\n",
       "1    [listed, date, night,  , austin,  , ambiance, ...\n",
       "2    [listed, brunch, spots, loved, eclectic, homey...\n",
       "3    [cool, decor,  , good, drinks, nice, seating, ...\n",
       "4    [located, northcross, mall, shopping, center, ...\n",
       "Name: tokens, dtype: object"
      ]
     },
     "execution_count": 20,
     "metadata": {},
     "output_type": "execute_result"
    }
   ],
   "source": [
    "shops[\"tokens\"].head()"
   ]
  },
  {
   "cell_type": "code",
   "execution_count": 21,
   "metadata": {},
   "outputs": [
    {
     "data": {
      "text/plain": [
       "[(' ', 76762),\n",
       " ('  ', 20647),\n",
       " ('coffee', 10572),\n",
       " ('s', 7684),\n",
       " ('place', 5448),\n",
       " ('t', 5151),\n",
       " ('   ', 4155),\n",
       " ('good', 4003),\n",
       " ('great', 3939),\n",
       " ('like', 3127),\n",
       " ('austin', 2347),\n",
       " ('    ', 2180),\n",
       " ('love', 1946),\n",
       " ('m', 1913),\n",
       " ('time', 1907),\n",
       " ('food', 1880),\n",
       " ('ve', 1792),\n",
       " ('nice', 1755),\n",
       " ('shop', 1727),\n",
       " ('friendly', 1706)]"
      ]
     },
     "execution_count": 21,
     "metadata": {},
     "output_type": "execute_result"
    }
   ],
   "source": [
    "# Object from Base Python\n",
    "from collections import Counter\n",
    "\n",
    "# The object `Counter` takes an iterable, but you can instaniate an empty one and update it. \n",
    "word_counts = Counter()\n",
    "\n",
    "# Update it based on a split of each of our documents\n",
    "shops[\"tokens\"].apply(lambda x: word_counts.update(x))\n",
    "\n",
    "# Print out the 10 most common words\n",
    "word_counts.most_common(20)"
   ]
  },
  {
   "cell_type": "markdown",
   "metadata": {},
   "source": [
    "### 3. Adding words to stop words"
   ]
  },
  {
   "cell_type": "code",
   "execution_count": 22,
   "metadata": {},
   "outputs": [],
   "source": [
    "STOP_WORDS = nlp.Defaults.stop_words.union([\"coffee\", \"got\", \"place\",\"try\", \"i'm\", \"i've\", \"place\", \"come\", \"definitely\", \"order\", \"its\", \"it\", \"it's\", \"you're\", \"didn't\", \"don't\", \"shop\", \"got\", \"came\",\" \",\"  \",\"s\",\"   \", \"t\",\"    \" , \"don\"])"
   ]
  },
  {
   "cell_type": "code",
   "execution_count": 23,
   "metadata": {},
   "outputs": [
    {
     "data": {
      "text/plain": [
       "0    [love, love, love, atmosphere, corner, style, ...\n",
       "1    [list, date, night, austin, ambiance, austin, ...\n",
       "2    [list, brunch, spot, love, eclectic, homey, pl...\n",
       "3    [cool, decor, good, drink, nice, seat, overpri...\n",
       "4    [locate, northcross, mall, center, face, east,...\n",
       "Name: tokens, dtype: object"
      ]
     },
     "execution_count": 23,
     "metadata": {},
     "output_type": "execute_result"
    }
   ],
   "source": [
    "# Tokenizer pipe removing stop words, blank words, and lemmatizing\n",
    "tokens = []\n",
    "\n",
    "for doc in tokenizer.pipe(shops['full_review_text'], batch_size=500):\n",
    "    \n",
    "    doc_tokens = []\n",
    "    \n",
    "    for token in doc:\n",
    "        if (token.lemma_ not in STOP_WORDS) & (token.text != \" \"):\n",
    "            doc_tokens.append(token.lemma_)\n",
    "            \n",
    "    tokens.append(doc_tokens)\n",
    "\n",
    "shops['tokens'] = tokens\n",
    "shops['tokens'].head()"
   ]
  },
  {
   "cell_type": "markdown",
   "metadata": {},
   "source": [
    "### Create a WC DataFrame"
   ]
  },
  {
   "cell_type": "code",
   "execution_count": 24,
   "metadata": {},
   "outputs": [],
   "source": [
    "def count(docs):\n",
    "    \"\"\"\n",
    "    This function takes a list of tokenized documents as input and returns \n",
    "    a dataframe with frequency counts of words in teh document set. \n",
    "    \n",
    "    #Arguements\n",
    "        docs: list, tokenized list of documents\n",
    "        \n",
    "    #Return\n",
    "        wc: dataframe,\n",
    "    \"\"\"\n",
    "    word_counts = Counter()\n",
    "    appears_in = Counter()\n",
    "        \n",
    "    total_docs = len(docs)\n",
    "\n",
    "    for doc in docs:\n",
    "        word_counts.update(doc)\n",
    "        appears_in.update(set(doc))\n",
    "\n",
    "    temp = zip(word_counts.keys(), word_counts.values())\n",
    "        \n",
    "    wc = pd.DataFrame(temp, columns = [\"word\", \"count\"])\n",
    "\n",
    "    wc[\"rank\"] = wc[\"count\"].rank(method=\"first\", ascending=False)\n",
    "    total = wc[\"count\"].sum()\n",
    "\n",
    "    wc[\"pct_total\"] = wc[\"count\"].apply(lambda x: x / total)\n",
    "        \n",
    "    wc = wc.sort_values(by=\"rank\")\n",
    "    wc[\"cul_pct_total\"] = wc[\"pct_total\"].cumsum()\n",
    "\n",
    "    t2 = zip(appears_in.keys(), appears_in.values())\n",
    "    ac = pd.DataFrame(t2, columns=[\"word\", \"appears_in\"])\n",
    "    wc = ac.merge(wc, on=\"word\")\n",
    "\n",
    "    wc[\"appears_in_pct\"] = wc[\"appears_in\"].apply(lambda x: x / total_docs)\n",
    "        \n",
    "    return wc.sort_values(by=\"rank\")"
   ]
  },
  {
   "cell_type": "code",
   "execution_count": 25,
   "metadata": {},
   "outputs": [
    {
     "data": {
      "text/html": [
       "<div>\n",
       "<style scoped>\n",
       "    .dataframe tbody tr th:only-of-type {\n",
       "        vertical-align: middle;\n",
       "    }\n",
       "\n",
       "    .dataframe tbody tr th {\n",
       "        vertical-align: top;\n",
       "    }\n",
       "\n",
       "    .dataframe thead th {\n",
       "        text-align: right;\n",
       "    }\n",
       "</style>\n",
       "<table border=\"1\" class=\"dataframe\">\n",
       "  <thead>\n",
       "    <tr style=\"text-align: right;\">\n",
       "      <th></th>\n",
       "      <th>word</th>\n",
       "      <th>appears_in</th>\n",
       "      <th>count</th>\n",
       "      <th>rank</th>\n",
       "      <th>pct_total</th>\n",
       "      <th>cul_pct_total</th>\n",
       "      <th>appears_in_pct</th>\n",
       "    </tr>\n",
       "  </thead>\n",
       "  <tbody>\n",
       "    <tr>\n",
       "      <th>137</th>\n",
       "      <td>good</td>\n",
       "      <td>3457</td>\n",
       "      <td>5423</td>\n",
       "      <td>1.0</td>\n",
       "      <td>0.016989</td>\n",
       "      <td>0.016989</td>\n",
       "      <td>0.453913</td>\n",
       "    </tr>\n",
       "    <tr>\n",
       "      <th>81</th>\n",
       "      <td>great</td>\n",
       "      <td>2862</td>\n",
       "      <td>3966</td>\n",
       "      <td>2.0</td>\n",
       "      <td>0.012425</td>\n",
       "      <td>0.029414</td>\n",
       "      <td>0.375788</td>\n",
       "    </tr>\n",
       "    <tr>\n",
       "      <th>129</th>\n",
       "      <td>like</td>\n",
       "      <td>2286</td>\n",
       "      <td>3403</td>\n",
       "      <td>3.0</td>\n",
       "      <td>0.010661</td>\n",
       "      <td>0.040074</td>\n",
       "      <td>0.300158</td>\n",
       "    </tr>\n",
       "    <tr>\n",
       "      <th>25</th>\n",
       "      <td>drink</td>\n",
       "      <td>1675</td>\n",
       "      <td>2415</td>\n",
       "      <td>4.0</td>\n",
       "      <td>0.007566</td>\n",
       "      <td>0.047640</td>\n",
       "      <td>0.219932</td>\n",
       "    </tr>\n",
       "    <tr>\n",
       "      <th>439</th>\n",
       "      <td>time</td>\n",
       "      <td>1775</td>\n",
       "      <td>2407</td>\n",
       "      <td>5.0</td>\n",
       "      <td>0.007541</td>\n",
       "      <td>0.055180</td>\n",
       "      <td>0.233062</td>\n",
       "    </tr>\n",
       "    <tr>\n",
       "      <th>9</th>\n",
       "      <td>love</td>\n",
       "      <td>1826</td>\n",
       "      <td>2394</td>\n",
       "      <td>6.0</td>\n",
       "      <td>0.007500</td>\n",
       "      <td>0.062680</td>\n",
       "      <td>0.239758</td>\n",
       "    </tr>\n",
       "    <tr>\n",
       "      <th>48</th>\n",
       "      <td>austin</td>\n",
       "      <td>1843</td>\n",
       "      <td>2347</td>\n",
       "      <td>7.0</td>\n",
       "      <td>0.007353</td>\n",
       "      <td>0.070033</td>\n",
       "      <td>0.241991</td>\n",
       "    </tr>\n",
       "    <tr>\n",
       "      <th>206</th>\n",
       "      <td>little</td>\n",
       "      <td>1570</td>\n",
       "      <td>1975</td>\n",
       "      <td>8.0</td>\n",
       "      <td>0.006187</td>\n",
       "      <td>0.076220</td>\n",
       "      <td>0.206145</td>\n",
       "    </tr>\n",
       "    <tr>\n",
       "      <th>558</th>\n",
       "      <td>work</td>\n",
       "      <td>1503</td>\n",
       "      <td>1952</td>\n",
       "      <td>9.0</td>\n",
       "      <td>0.006115</td>\n",
       "      <td>0.082335</td>\n",
       "      <td>0.197348</td>\n",
       "    </tr>\n",
       "    <tr>\n",
       "      <th>301</th>\n",
       "      <td>food</td>\n",
       "      <td>1432</td>\n",
       "      <td>1942</td>\n",
       "      <td>10.0</td>\n",
       "      <td>0.006084</td>\n",
       "      <td>0.088419</td>\n",
       "      <td>0.188025</td>\n",
       "    </tr>\n",
       "  </tbody>\n",
       "</table>\n",
       "</div>"
      ],
      "text/plain": [
       "       word  appears_in  count  rank  pct_total  cul_pct_total  appears_in_pct\n",
       "137    good        3457   5423   1.0   0.016989       0.016989        0.453913\n",
       "81    great        2862   3966   2.0   0.012425       0.029414        0.375788\n",
       "129    like        2286   3403   3.0   0.010661       0.040074        0.300158\n",
       "25    drink        1675   2415   4.0   0.007566       0.047640        0.219932\n",
       "439    time        1775   2407   5.0   0.007541       0.055180        0.233062\n",
       "9      love        1826   2394   6.0   0.007500       0.062680        0.239758\n",
       "48   austin        1843   2347   7.0   0.007353       0.070033        0.241991\n",
       "206  little        1570   1975   8.0   0.006187       0.076220        0.206145\n",
       "558    work        1503   1952   9.0   0.006115       0.082335        0.197348\n",
       "301    food        1432   1942  10.0   0.006084       0.088419        0.188025"
      ]
     },
     "execution_count": 25,
     "metadata": {},
     "output_type": "execute_result"
    }
   ],
   "source": [
    "wc_all = count(shops[\"tokens\"])\n",
    "wc_all.head(10)"
   ]
  },
  {
   "cell_type": "code",
   "execution_count": 26,
   "metadata": {},
   "outputs": [
    {
     "data": {
      "image/png": "[encoded data removed]",
      "text/plain": [
       "<Figure size 432x288 with 1 Axes>"
      ]
     },
     "metadata": {
      "needs_background": "light"
     },
     "output_type": "display_data"
    }
   ],
   "source": [
    "wc_top20 = wc_all[wc_all[\"rank\"] <= 20]\n",
    "\n",
    "squarify.plot(sizes=wc_top20[\"pct_total\"], label=wc_top20[\"word\"], alpha=.8 )\n",
    "plt.axis(\"off\")\n",
    "plt.show()"
   ]
  },
  {
   "cell_type": "markdown",
   "metadata": {},
   "source": [
    "## How do we want to analyze these coffee shop tokens? \n",
    "\n",
    "- Overall Word / Token Count\n",
    "- View Counts by Rating \n",
    "- *Hint:* a 'bad' coffee shops has a rating betweeen 1 & 3 based on the distribution of ratings. A 'good' coffee shop is a 4 or 5. "
   ]
  },
  {
   "cell_type": "code",
   "execution_count": 27,
   "metadata": {},
   "outputs": [
    {
     "name": "stdout",
     "output_type": "stream",
     "text": [
      "(6140, 6)\n"
     ]
    },
    {
     "data": {
      "text/html": [
       "<div>\n",
       "<style scoped>\n",
       "    .dataframe tbody tr th:only-of-type {\n",
       "        vertical-align: middle;\n",
       "    }\n",
       "\n",
       "    .dataframe tbody tr th {\n",
       "        vertical-align: top;\n",
       "    }\n",
       "\n",
       "    .dataframe thead th {\n",
       "        text-align: right;\n",
       "    }\n",
       "</style>\n",
       "<table border=\"1\" class=\"dataframe\">\n",
       "  <thead>\n",
       "    <tr style=\"text-align: right;\">\n",
       "      <th></th>\n",
       "      <th>word</th>\n",
       "      <th>appears_in</th>\n",
       "      <th>count</th>\n",
       "      <th>rank</th>\n",
       "      <th>pct_total</th>\n",
       "      <th>cul_pct_total</th>\n",
       "      <th>appears_in_pct</th>\n",
       "    </tr>\n",
       "  </thead>\n",
       "  <tbody>\n",
       "    <tr>\n",
       "      <th>167</th>\n",
       "      <td>good</td>\n",
       "      <td>2739</td>\n",
       "      <td>4277</td>\n",
       "      <td>1.0</td>\n",
       "      <td>0.017160</td>\n",
       "      <td>0.017160</td>\n",
       "      <td>0.446091</td>\n",
       "    </tr>\n",
       "    <tr>\n",
       "      <th>81</th>\n",
       "      <td>great</td>\n",
       "      <td>2514</td>\n",
       "      <td>3494</td>\n",
       "      <td>2.0</td>\n",
       "      <td>0.014018</td>\n",
       "      <td>0.031178</td>\n",
       "      <td>0.409446</td>\n",
       "    </tr>\n",
       "    <tr>\n",
       "      <th>160</th>\n",
       "      <td>like</td>\n",
       "      <td>1688</td>\n",
       "      <td>2451</td>\n",
       "      <td>3.0</td>\n",
       "      <td>0.009834</td>\n",
       "      <td>0.041011</td>\n",
       "      <td>0.274919</td>\n",
       "    </tr>\n",
       "    <tr>\n",
       "      <th>9</th>\n",
       "      <td>love</td>\n",
       "      <td>1613</td>\n",
       "      <td>2137</td>\n",
       "      <td>4.0</td>\n",
       "      <td>0.008574</td>\n",
       "      <td>0.049585</td>\n",
       "      <td>0.262704</td>\n",
       "    </tr>\n",
       "    <tr>\n",
       "      <th>48</th>\n",
       "      <td>austin</td>\n",
       "      <td>1591</td>\n",
       "      <td>2049</td>\n",
       "      <td>5.0</td>\n",
       "      <td>0.008221</td>\n",
       "      <td>0.057806</td>\n",
       "      <td>0.259121</td>\n",
       "    </tr>\n",
       "    <tr>\n",
       "      <th>25</th>\n",
       "      <td>drink</td>\n",
       "      <td>1306</td>\n",
       "      <td>1793</td>\n",
       "      <td>6.0</td>\n",
       "      <td>0.007194</td>\n",
       "      <td>0.064999</td>\n",
       "      <td>0.212704</td>\n",
       "    </tr>\n",
       "    <tr>\n",
       "      <th>348</th>\n",
       "      <td>time</td>\n",
       "      <td>1348</td>\n",
       "      <td>1786</td>\n",
       "      <td>7.0</td>\n",
       "      <td>0.007166</td>\n",
       "      <td>0.072165</td>\n",
       "      <td>0.219544</td>\n",
       "    </tr>\n",
       "    <tr>\n",
       "      <th>183</th>\n",
       "      <td>little</td>\n",
       "      <td>1258</td>\n",
       "      <td>1565</td>\n",
       "      <td>8.0</td>\n",
       "      <td>0.006279</td>\n",
       "      <td>0.078444</td>\n",
       "      <td>0.204886</td>\n",
       "    </tr>\n",
       "    <tr>\n",
       "      <th>7</th>\n",
       "      <td>latte</td>\n",
       "      <td>1038</td>\n",
       "      <td>1557</td>\n",
       "      <td>9.0</td>\n",
       "      <td>0.006247</td>\n",
       "      <td>0.084690</td>\n",
       "      <td>0.169055</td>\n",
       "    </tr>\n",
       "    <tr>\n",
       "      <th>458</th>\n",
       "      <td>work</td>\n",
       "      <td>1195</td>\n",
       "      <td>1538</td>\n",
       "      <td>10.0</td>\n",
       "      <td>0.006171</td>\n",
       "      <td>0.090861</td>\n",
       "      <td>0.194625</td>\n",
       "    </tr>\n",
       "  </tbody>\n",
       "</table>\n",
       "</div>"
      ],
      "text/plain": [
       "       word  appears_in  count  rank  pct_total  cul_pct_total  appears_in_pct\n",
       "167    good        2739   4277   1.0   0.017160       0.017160        0.446091\n",
       "81    great        2514   3494   2.0   0.014018       0.031178        0.409446\n",
       "160    like        1688   2451   3.0   0.009834       0.041011        0.274919\n",
       "9      love        1613   2137   4.0   0.008574       0.049585        0.262704\n",
       "48   austin        1591   2049   5.0   0.008221       0.057806        0.259121\n",
       "25    drink        1306   1793   6.0   0.007194       0.064999        0.212704\n",
       "348    time        1348   1786   7.0   0.007166       0.072165        0.219544\n",
       "183  little        1258   1565   8.0   0.006279       0.078444        0.204886\n",
       "7     latte        1038   1557   9.0   0.006247       0.084690        0.169055\n",
       "458    work        1195   1538  10.0   0.006171       0.090861        0.194625"
      ]
     },
     "execution_count": 27,
     "metadata": {},
     "output_type": "execute_result"
    }
   ],
   "source": [
    "# Check top words for 4 and 5 ratings\n",
    "good_coffee = shops[shops['star_rating'] >= 4]\n",
    "good_count = count(good_coffee['tokens'])\n",
    "print(good_coffee.shape)\n",
    "good_count.head(10)"
   ]
  },
  {
   "cell_type": "code",
   "execution_count": 28,
   "metadata": {},
   "outputs": [
    {
     "name": "stdout",
     "output_type": "stream",
     "text": [
      "(3836, 6)\n"
     ]
    },
    {
     "data": {
      "text/html": [
       "<div>\n",
       "<style scoped>\n",
       "    .dataframe tbody tr th:only-of-type {\n",
       "        vertical-align: middle;\n",
       "    }\n",
       "\n",
       "    .dataframe tbody tr th {\n",
       "        vertical-align: top;\n",
       "    }\n",
       "\n",
       "    .dataframe thead th {\n",
       "        text-align: right;\n",
       "    }\n",
       "</style>\n",
       "<table border=\"1\" class=\"dataframe\">\n",
       "  <thead>\n",
       "    <tr style=\"text-align: right;\">\n",
       "      <th></th>\n",
       "      <th>word</th>\n",
       "      <th>appears_in</th>\n",
       "      <th>count</th>\n",
       "      <th>rank</th>\n",
       "      <th>pct_total</th>\n",
       "      <th>cul_pct_total</th>\n",
       "      <th>appears_in_pct</th>\n",
       "    </tr>\n",
       "  </thead>\n",
       "  <tbody>\n",
       "    <tr>\n",
       "      <th>110</th>\n",
       "      <td>good</td>\n",
       "      <td>1983</td>\n",
       "      <td>3188</td>\n",
       "      <td>1.0</td>\n",
       "      <td>0.017973</td>\n",
       "      <td>0.017973</td>\n",
       "      <td>0.516945</td>\n",
       "    </tr>\n",
       "    <tr>\n",
       "      <th>102</th>\n",
       "      <td>like</td>\n",
       "      <td>1383</td>\n",
       "      <td>2123</td>\n",
       "      <td>2.0</td>\n",
       "      <td>0.011969</td>\n",
       "      <td>0.029943</td>\n",
       "      <td>0.360532</td>\n",
       "    </tr>\n",
       "    <tr>\n",
       "      <th>51</th>\n",
       "      <td>great</td>\n",
       "      <td>1295</td>\n",
       "      <td>1769</td>\n",
       "      <td>3.0</td>\n",
       "      <td>0.009973</td>\n",
       "      <td>0.039916</td>\n",
       "      <td>0.337591</td>\n",
       "    </tr>\n",
       "    <tr>\n",
       "      <th>97</th>\n",
       "      <td>drink</td>\n",
       "      <td>934</td>\n",
       "      <td>1426</td>\n",
       "      <td>4.0</td>\n",
       "      <td>0.008040</td>\n",
       "      <td>0.047955</td>\n",
       "      <td>0.243483</td>\n",
       "    </tr>\n",
       "    <tr>\n",
       "      <th>419</th>\n",
       "      <td>time</td>\n",
       "      <td>987</td>\n",
       "      <td>1384</td>\n",
       "      <td>5.0</td>\n",
       "      <td>0.007803</td>\n",
       "      <td>0.055758</td>\n",
       "      <td>0.257299</td>\n",
       "    </tr>\n",
       "    <tr>\n",
       "      <th>186</th>\n",
       "      <td>little</td>\n",
       "      <td>920</td>\n",
       "      <td>1190</td>\n",
       "      <td>6.0</td>\n",
       "      <td>0.006709</td>\n",
       "      <td>0.062467</td>\n",
       "      <td>0.239833</td>\n",
       "    </tr>\n",
       "    <tr>\n",
       "      <th>281</th>\n",
       "      <td>food</td>\n",
       "      <td>824</td>\n",
       "      <td>1172</td>\n",
       "      <td>7.0</td>\n",
       "      <td>0.006608</td>\n",
       "      <td>0.069075</td>\n",
       "      <td>0.214807</td>\n",
       "    </tr>\n",
       "    <tr>\n",
       "      <th>467</th>\n",
       "      <td>work</td>\n",
       "      <td>820</td>\n",
       "      <td>1116</td>\n",
       "      <td>8.0</td>\n",
       "      <td>0.006292</td>\n",
       "      <td>0.075367</td>\n",
       "      <td>0.213764</td>\n",
       "    </tr>\n",
       "    <tr>\n",
       "      <th>2</th>\n",
       "      <td>nice</td>\n",
       "      <td>873</td>\n",
       "      <td>1072</td>\n",
       "      <td>9.0</td>\n",
       "      <td>0.006044</td>\n",
       "      <td>0.081410</td>\n",
       "      <td>0.227581</td>\n",
       "    </tr>\n",
       "    <tr>\n",
       "      <th>17</th>\n",
       "      <td>austin</td>\n",
       "      <td>816</td>\n",
       "      <td>1019</td>\n",
       "      <td>10.0</td>\n",
       "      <td>0.005745</td>\n",
       "      <td>0.087155</td>\n",
       "      <td>0.212722</td>\n",
       "    </tr>\n",
       "  </tbody>\n",
       "</table>\n",
       "</div>"
      ],
      "text/plain": [
       "       word  appears_in  count  rank  pct_total  cul_pct_total  appears_in_pct\n",
       "110    good        1983   3188   1.0   0.017973       0.017973        0.516945\n",
       "102    like        1383   2123   2.0   0.011969       0.029943        0.360532\n",
       "51    great        1295   1769   3.0   0.009973       0.039916        0.337591\n",
       "97    drink         934   1426   4.0   0.008040       0.047955        0.243483\n",
       "419    time         987   1384   5.0   0.007803       0.055758        0.257299\n",
       "186  little         920   1190   6.0   0.006709       0.062467        0.239833\n",
       "281    food         824   1172   7.0   0.006608       0.069075        0.214807\n",
       "467    work         820   1116   8.0   0.006292       0.075367        0.213764\n",
       "2      nice         873   1072   9.0   0.006044       0.081410        0.227581\n",
       "17   austin         816   1019  10.0   0.005745       0.087155        0.212722"
      ]
     },
     "execution_count": 28,
     "metadata": {},
     "output_type": "execute_result"
    }
   ],
   "source": [
    "# Check top words for 1-3 ratings\n",
    "bad_coffee = shops[shops['star_rating'] <= 4]\n",
    "bad_count = count(bad_coffee['tokens'])\n",
    "print(bad_coffee.shape)\n",
    "bad_count.head(10)\n"
   ]
  },
  {
   "cell_type": "code",
   "execution_count": 29,
   "metadata": {},
   "outputs": [],
   "source": [
    "gc_top20 = good_count[good_count[\"rank\"] <= 20]\n",
    "bc_top20 = bad_count[bad_count[\"rank\"] <= 20]"
   ]
  },
  {
   "cell_type": "code",
   "execution_count": 30,
   "metadata": {},
   "outputs": [
    {
     "data": {
      "image/png": "[encoded data removed]",
      "text/plain": [
       "<Figure size 1440x576 with 3 Axes>"
      ]
     },
     "metadata": {
      "needs_background": "light"
     },
     "output_type": "display_data"
    }
   ],
   "source": [
    "#Comparison\n",
    "\n",
    "fig, axes = plt.subplots(1, 3, figsize = (20, 8))\n",
    "\n",
    "axes[0].set_title(\"All Coffee Shops\")\n",
    "squarify.plot(sizes = wc_top20[\"pct_total\"], label = wc_top20[\"word\"], alpha = .8, ax = axes[0])\n",
    "axes[0].axis(\"off\")\n",
    "\n",
    "axes[1].set_title(\"Good Coffee Shops\")\n",
    "squarify.plot(sizes = gc_top20[\"pct_total\"], label = gc_top20[\"word\"], alpha = .8, ax = axes[1])\n",
    "axes[1].axis(\"off\")\n",
    "\n",
    "axes[2].set_title(\"Bad Coffee Shops\")\n",
    "squarify.plot(sizes = bc_top20[\"pct_total\"], label = bc_top20[\"word\"], alpha = .8, ax = axes[2])\n",
    "axes[2].axis(\"off\")\n",
    "\n",
    "plt.show();"
   ]
  },
  {
   "cell_type": "markdown",
   "metadata": {},
   "source": [
    "## Can visualize the words with the greatest difference in counts between 'good' & 'bad'?\n",
    "\n",
    "Couple Notes: \n",
    "- Rel. freq. instead of absolute counts b/c of different numbers of reviews\n",
    "- Only look at the top 5-10 words with the greatest differences\n"
   ]
  },
  {
   "cell_type": "code",
   "execution_count": 31,
   "metadata": {},
   "outputs": [
    {
     "ename": "NameError",
     "evalue": "name 'xyz' is not defined",
     "output_type": "error",
     "traceback": [
      "\u001b[0;31m---------------------------------------------------------------------------\u001b[0m",
      "\u001b[0;31mNameError\u001b[0m                                 Traceback (most recent call last)",
      "\u001b[0;32m<ipython-input-31-8714e0ef31ed>\u001b[0m in \u001b[0;36m<module>\u001b[0;34m\u001b[0m\n\u001b[0;32m----> 1\u001b[0;31m \u001b[0mxyz\u001b[0m\u001b[0;34m\u001b[0m\u001b[0m\n\u001b[0m",
      "\u001b[0;31mNameError\u001b[0m: name 'xyz' is not defined"
     ]
    }
   ],
   "source": [
    "xyz"
   ]
  },
  {
   "cell_type": "code",
   "execution_count": null,
   "metadata": {},
   "outputs": [],
   "source": []
  },
  {
   "cell_type": "code",
   "execution_count": null,
   "metadata": {},
   "outputs": [],
   "source": []
  },
  {
   "cell_type": "code",
   "execution_count": null,
   "metadata": {},
   "outputs": [],
   "source": []
  },
  {
   "cell_type": "code",
   "execution_count": null,
   "metadata": {},
   "outputs": [],
   "source": []
  },
  {
   "cell_type": "code",
   "execution_count": null,
   "metadata": {},
   "outputs": [],
   "source": []
  },
  {
   "cell_type": "markdown",
   "metadata": {
    "colab_type": "text",
    "id": "1dCb1q8XphcP",
    "toc-hr-collapsed": true
   },
   "source": [
    "## Stretch Goals\n",
    "\n",
    "* Analyze another corpus of documents - such as Indeed.com job listings ;).\n",
    "* Play with the Spacy API to\n",
    " - Extract Named Entities\n",
    " - Extracting 'noun chunks'\n",
    " - Attempt Document Classification with just Spacy\n",
    " - *Note:* This [course](https://course.spacy.io/) will be of interesting in helping you with these stretch goals. \n",
    "* Try to build a plotly dash app with your text data \n",
    "\n"
   ]
  }
 ],
 "metadata": {
  "colab": {
   "collapsed_sections": [],
   "name": "LS_DS_421_Text_Data_Assignment.ipynb",
   "provenance": [],
   "version": "0.3.2"
  },
  "kernelspec": {
   "display_name": "U4-S1-NLP (Python3)",
   "language": "python",
   "name": "u4-s1-nlp"
  },
  "language_info": {
   "codemirror_mode": {
    "name": "ipython",
    "version": 3
   },
   "file_extension": ".py",
   "mimetype": "text/x-python",
   "name": "python",
   "nbconvert_exporter": "python",
   "pygments_lexer": "ipython3",
   "version": "3.7.0"
  },
  "toc-autonumbering": false
 },
 "nbformat": 4,
 "nbformat_minor": 4
}
